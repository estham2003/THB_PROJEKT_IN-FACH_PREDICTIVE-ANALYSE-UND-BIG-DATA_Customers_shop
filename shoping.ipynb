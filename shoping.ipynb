{
 "cells": [
  {
   "cell_type": "markdown",
   "metadata": {},
   "source": [
    "# GRUPPEN_PROJEKT 12"
   ]
  },
  {
   "cell_type": "code",
   "execution_count": 13,
   "metadata": {},
   "outputs": [],
   "source": [
    "#------------------------  Wir arbeiten mit der Visual Studio IDE, die eine Python-Entwicklungsumgebung ist.-------------------------"
   ]
  },
  {
   "cell_type": "markdown",
   "metadata": {},
   "source": [
    "# EINFÜHRUNG\n",
    "\n",
    "\n",
    "KÖNNEN SIE SICH EINE WELT OHNE DATEN VORSTELLEN ?\n",
    "\n",
    "\n",
    "In den Wirren einer amerikanischen Vorstadt, in einem Geschäft, dessen Name ein gut gehütetes Geheimnis bleibt, entfaltet sich ein lautloser Tanz der Daten. Die Besitzer, wie faszinierte Wissenschaftlerinnen, setzen unauffällige Sensoren und versteckte Kameras ein, um die Tiefen des Kundenverhaltens zu erforschen. Jede Interaktion, jede Wahl, jede Mikroexpression wird erfasst und in die unerbittliche Sprache der Daten übersetzt.\n",
    "\n",
    "Geleitet von den fortschrittlichsten Technologien wie pandas, numpy und matplotlib, verwandeln die Besitzer die rohen Daten in ein kunstvoll orchestriertes Zahlenwerk, das die subtilen Verflechtungen zwischen den Kundenpräferenzen und dem kommerziellen Erfolg des Unternehmens offenbart. Sie formulieren Hypothesen mit der Strenge einer wissenschaftlichen Studie und entwickeln komplexe Modelle, um verborgene Trends aufzudecken, indem sie jede Variable akribisch untersuchen.\n",
    "\n",
    "Während die Welt draußen weiterhin in Eile ist, ziehen sie sich in ein Refugium der Reflexion zurück, ein geheimes Labor im Hintergrund. Dort werden Diagramme und Dashboards zu Leinwänden, auf denen sie die komplexen Geschichten der Konsummuster malen, von saisonalen Schwankungen bis hin zu unerwartetem Verhalten. Jede Entdeckung wird mit derselben Intensität wie ein Laborversuch untersucht, denn sie dient nicht nur ihrem Verständnis, sondern auch ihrer Fähigkeit, das Kundenerlebnis strategisch anzupassen für anhaltenden geschäftlichen Erfolg.\n",
    "\n",
    "\n",
    "In diesem Schwung wagen wir uns in die gründliche Suche und Analyse dieser Daten. \n",
    "\n",
    "Die Arbeit besteht aus zwei Hauptabschnitten :\n",
    "\n",
    "Der erste Abschnitt umfasst die Formulierung einer Fragestellung. Basierend auf dieser Fragestellung werden vier Hypothesen abgeleitet, die als Grundlage für unsere Analyse im weiteren Verlauf des Projekts dienen. Zudem werden wir diverse Python-Bibliotheken aufrufen , wie **pandas**,   **numpy**,   **matplotlib**,**sklearn.preprocessin**   ,**sklearn.impute** , welche die erforderlichen Funktionen und Methoden beinhalten, um unsere Ziele zu erreichen. Des Weiteren werden wir den DataFrame einlesen, relevante Variablen für unsere Datenanalyse auswählen und abschließend die Datenaufbereitung durchführen.\n",
    "\n",
    "\n",
    "\n",
    "Der zweite Abschnitt der Aufgabe widmet sich der Analyse. Wir beabsichtigen, eine deskriptive Statistik unserer Daten zu erstellen, diese mittels leicht verständlicher Diagramme zu visualisieren und jedes Ergebnis eingehend zu interpretieren\n",
    "\n",
    "\n",
    "\n"
   ]
  },
  {
   "cell_type": "markdown",
   "metadata": {},
   "source": [
    "# TEIL I\n"
   ]
  },
  {
   "cell_type": "markdown",
   "metadata": {},
   "source": [
    "## FRAGESTELLUNG"
   ]
  },
  {
   "cell_type": "markdown",
   "metadata": {},
   "source": [
    "\"Inwieweit werden das Ausgabeverhalten von Kunden in einem Einzelhandelsgeschäft(Shop) durch demografische Faktoren wie Alter beeinflusst, und wie unterscheiden sich diese Einflüsse in Bezug auf die Nutzung von Promo-Codes, die Jahreszeit und die bevorzugte Zahlungsmethode ?\""
   ]
  },
  {
   "cell_type": "markdown",
   "metadata": {},
   "source": [
    "## HYPOTHESE\n",
    "\n",
    "Hypothese 1: Ältere Menschen würden mehr oder weniger als junge Menschen ausgeben.\n",
    "\n",
    "Hypothese 2: Kunden, die Promo-Codes verwenden oder Rabatte erhalten, haben einen höheren Gesamtkaufbetrag.\n",
    "\n",
    "Hypothese 3: Der durchschnittliche Kaufbetrag ist im Sommer niedriger als in anderen Seasons.\n",
    "\n",
    "Hypothese 4: Kunden, die Online-Zahlungsmethoden (z.B. Paypal, Banktransfer) verwenden, geben im Durchschnitt mehr pro Transaktion aus als Kunden, die Bargeld oder kontaktlose Zahlungen verwenden."
   ]
  },
  {
   "cell_type": "markdown",
   "metadata": {},
   "source": [
    "## IMPORTIEREN DER BIBLIOTHEKEN"
   ]
  },
  {
   "cell_type": "markdown",
   "metadata": {},
   "source": [
    "**pandas**: Diese Bibliothek wird verwendet, um tabellarische Daten zu lesen, zu manipulieren und zu analysieren, wie z. B. Tabellen. Im Rahmen unseres Projekts wird diese Bibliothek nicht nur verwendet, um unsere Datei mit der Erweiterung .CSV zu lesen, sondern auch um Daten zu laden, zu bereinigen, zu transformieren und statistische Operationen durchzuführen.\n",
    "\n",
    "**numpy**: Diese Bibliothek ermöglicht numerische Berechnungen und Operationen auf unserem DataFrame, was es uns ermöglicht, Daten effizient zu verarbeiten, insbesondere für die Berechnung deskriptiver Statistiken.\n",
    "\n",
    "**matplotlib**: Diese Python-Bibliothek ermöglicht es uns, unsere Daten in verschiedenen grafischen Formen zu visualisieren, um Trends, Muster und Beziehungen zwischen den Variablen besser zu verstehen.\n",
    "\n",
    "**SimpleImputer**: SimpleImputer ist eine Klasse aus der Bibliothek scikit-learn (sklearn), die verwendet wird, um fehlende Werte in einem Datensatz zu ersetzen. Sie ermöglicht es uns, fehlende Werte durch Zusammenfassungsstatistiken wie Mittelwert, Median oder Modus der nicht fehlenden Werte in der betreffenden Spalte zu ersetzen. SimpleImputer ist nützlich, um Daten vorzubereiten, indem sicher gestellt wird, dass sie vollständig sind und für die Analyse bereit sind.\n",
    "\n",
    "Sie fragen sich vielleicht, warum import vor jedem Aufruf einer Bibliothek steht? \n",
    "\n",
    "Tatsächlich wird das Schlüsselwort import in Python verwendet, um externe Module oder Bibliotheken in Ihr Python-Skript einzubeziehen.\n",
    "                         "
   ]
  },
  {
   "cell_type": "code",
   "execution_count": 14,
   "metadata": {},
   "outputs": [],
   "source": [
    "\n",
    "import pandas as pd  \n",
    "\n",
    "import numpy as np\n",
    "\n",
    "import matplotlib.pyplot as plt\n",
    "\n",
    "from sklearn.preprocessing import LabelEncoder\n",
    "\n",
    "from sklearn.impute import SimpleImputer\n",
    "\n"
   ]
  },
  {
   "cell_type": "markdown",
   "metadata": {},
   "source": [
    "## EINLESEN DER CSV ALS DataFrame\n",
    "\n",
    "Hier geht es darum, den Datensatz einzulesen und anschließend nur die für uns relevanten Variablen zu laden und weiter zu bearbeiten.\n",
    "\n",
    "Dazu erstellen wir zunächst eine Variable namens **raw_data**. Diese Variable wird der Name unseres DataFrames sein.\n",
    "\n",
    "*Im weiteren Verlauf des Projekts werden Sie feststellen, dass dieser Name durch andere Namen ersetzt wird, und Sie werden genau wissen, warum?.*\n",
    "\n"
   ]
  },
  {
   "cell_type": "code",
   "execution_count": 15,
   "metadata": {},
   "outputs": [
    {
     "data": {
      "text/html": [
       "<div>\n",
       "<style scoped>\n",
       "    .dataframe tbody tr th:only-of-type {\n",
       "        vertical-align: middle;\n",
       "    }\n",
       "\n",
       "    .dataframe tbody tr th {\n",
       "        vertical-align: top;\n",
       "    }\n",
       "\n",
       "    .dataframe thead th {\n",
       "        text-align: right;\n",
       "    }\n",
       "</style>\n",
       "<table border=\"1\" class=\"dataframe\">\n",
       "  <thead>\n",
       "    <tr style=\"text-align: right;\">\n",
       "      <th></th>\n",
       "      <th>CustomerID</th>\n",
       "      <th>Age</th>\n",
       "      <th>Gender</th>\n",
       "      <th>ItemPurchased</th>\n",
       "      <th>Category</th>\n",
       "      <th>PurchaseAmountUSD</th>\n",
       "      <th>Location</th>\n",
       "      <th>Size</th>\n",
       "      <th>Color</th>\n",
       "      <th>Season</th>\n",
       "      <th>ReviewRating</th>\n",
       "      <th>SubscriptionStatus</th>\n",
       "      <th>ShippingType</th>\n",
       "      <th>DiscountApplied</th>\n",
       "      <th>PromoCodeUsed</th>\n",
       "      <th>PreviousPurchases</th>\n",
       "      <th>PaymentMethod</th>\n",
       "      <th>FrequencyofPurchases</th>\n",
       "    </tr>\n",
       "  </thead>\n",
       "  <tbody>\n",
       "    <tr>\n",
       "      <th>0</th>\n",
       "      <td>1.0</td>\n",
       "      <td>55</td>\n",
       "      <td>Male</td>\n",
       "      <td>Blouse</td>\n",
       "      <td>Clothing</td>\n",
       "      <td>53.0</td>\n",
       "      <td>Kentucky</td>\n",
       "      <td>L</td>\n",
       "      <td>Gray</td>\n",
       "      <td>Winter</td>\n",
       "      <td>3.1</td>\n",
       "      <td>Yes</td>\n",
       "      <td>Express</td>\n",
       "      <td>Yes</td>\n",
       "      <td>Yes</td>\n",
       "      <td>14</td>\n",
       "      <td>Venmo</td>\n",
       "      <td>Fortnightly</td>\n",
       "    </tr>\n",
       "    <tr>\n",
       "      <th>1</th>\n",
       "      <td>2.0</td>\n",
       "      <td>19</td>\n",
       "      <td>Male</td>\n",
       "      <td>Sweater</td>\n",
       "      <td>Clothing</td>\n",
       "      <td>64.0</td>\n",
       "      <td>Maine</td>\n",
       "      <td>L</td>\n",
       "      <td>Maroon</td>\n",
       "      <td>Winter</td>\n",
       "      <td>3.1</td>\n",
       "      <td>Yes</td>\n",
       "      <td>Express</td>\n",
       "      <td>Yes</td>\n",
       "      <td>Yes</td>\n",
       "      <td>2</td>\n",
       "      <td>Cash</td>\n",
       "      <td>Fortnightly</td>\n",
       "    </tr>\n",
       "    <tr>\n",
       "      <th>2</th>\n",
       "      <td>6.0</td>\n",
       "      <td>46</td>\n",
       "      <td>Male</td>\n",
       "      <td>Sneakers</td>\n",
       "      <td>Footwear</td>\n",
       "      <td>20.0</td>\n",
       "      <td>Wyoming</td>\n",
       "      <td>M</td>\n",
       "      <td>White</td>\n",
       "      <td>Summer</td>\n",
       "      <td>2.9</td>\n",
       "      <td>Yes</td>\n",
       "      <td>Standard</td>\n",
       "      <td>Yes</td>\n",
       "      <td>Yes</td>\n",
       "      <td>14</td>\n",
       "      <td>Venmo</td>\n",
       "      <td>Weekly</td>\n",
       "    </tr>\n",
       "    <tr>\n",
       "      <th>3</th>\n",
       "      <td>7.0</td>\n",
       "      <td>63</td>\n",
       "      <td>Male</td>\n",
       "      <td>Shirt</td>\n",
       "      <td>Clothing</td>\n",
       "      <td>85.0</td>\n",
       "      <td>Montana</td>\n",
       "      <td>M</td>\n",
       "      <td>Gray</td>\n",
       "      <td>Fall</td>\n",
       "      <td>3.2</td>\n",
       "      <td>Yes</td>\n",
       "      <td>Free Shipping</td>\n",
       "      <td>Yes</td>\n",
       "      <td>Yes</td>\n",
       "      <td>49</td>\n",
       "      <td>Cash</td>\n",
       "      <td>Quarterly</td>\n",
       "    </tr>\n",
       "    <tr>\n",
       "      <th>4</th>\n",
       "      <td>8.0</td>\n",
       "      <td>27</td>\n",
       "      <td>Male</td>\n",
       "      <td>Shorts</td>\n",
       "      <td>Clothing</td>\n",
       "      <td>34.0</td>\n",
       "      <td>Louisiana</td>\n",
       "      <td>L</td>\n",
       "      <td>Charcoal</td>\n",
       "      <td>Winter</td>\n",
       "      <td>3.2</td>\n",
       "      <td>Yes</td>\n",
       "      <td>Free Shipping</td>\n",
       "      <td>Yes</td>\n",
       "      <td>Yes</td>\n",
       "      <td>19</td>\n",
       "      <td>Credit Card</td>\n",
       "      <td>Weekly</td>\n",
       "    </tr>\n",
       "    <tr>\n",
       "      <th>...</th>\n",
       "      <td>...</td>\n",
       "      <td>...</td>\n",
       "      <td>...</td>\n",
       "      <td>...</td>\n",
       "      <td>...</td>\n",
       "      <td>...</td>\n",
       "      <td>...</td>\n",
       "      <td>...</td>\n",
       "      <td>...</td>\n",
       "      <td>...</td>\n",
       "      <td>...</td>\n",
       "      <td>...</td>\n",
       "      <td>...</td>\n",
       "      <td>...</td>\n",
       "      <td>...</td>\n",
       "      <td>...</td>\n",
       "      <td>...</td>\n",
       "      <td>...</td>\n",
       "    </tr>\n",
       "    <tr>\n",
       "      <th>1281</th>\n",
       "      <td>3881.0</td>\n",
       "      <td>42</td>\n",
       "      <td>Female</td>\n",
       "      <td>Shirt</td>\n",
       "      <td>Clothing</td>\n",
       "      <td>20.0</td>\n",
       "      <td>Massachusetts</td>\n",
       "      <td>M</td>\n",
       "      <td>Red</td>\n",
       "      <td>Winter</td>\n",
       "      <td>3.9</td>\n",
       "      <td>No</td>\n",
       "      <td>Free Shipping</td>\n",
       "      <td>No</td>\n",
       "      <td>No</td>\n",
       "      <td>40</td>\n",
       "      <td>PayPal</td>\n",
       "      <td>Monthly</td>\n",
       "    </tr>\n",
       "    <tr>\n",
       "      <th>1282</th>\n",
       "      <td>3882.0</td>\n",
       "      <td>56</td>\n",
       "      <td>Female</td>\n",
       "      <td>Scarf</td>\n",
       "      <td>Accessories</td>\n",
       "      <td>25.0</td>\n",
       "      <td>Georgia</td>\n",
       "      <td>L</td>\n",
       "      <td>Silver</td>\n",
       "      <td>Spring</td>\n",
       "      <td>2.8</td>\n",
       "      <td>No</td>\n",
       "      <td>2-Day Shipping</td>\n",
       "      <td>No</td>\n",
       "      <td>No</td>\n",
       "      <td>17</td>\n",
       "      <td>Debit Card</td>\n",
       "      <td>Weekly</td>\n",
       "    </tr>\n",
       "    <tr>\n",
       "      <th>1283</th>\n",
       "      <td>3888.0</td>\n",
       "      <td>40</td>\n",
       "      <td>Female</td>\n",
       "      <td>Shirt</td>\n",
       "      <td>Clothing</td>\n",
       "      <td>34.0</td>\n",
       "      <td>Kansas</td>\n",
       "      <td>M</td>\n",
       "      <td>Charcoal</td>\n",
       "      <td>Spring</td>\n",
       "      <td>2.7</td>\n",
       "      <td>No</td>\n",
       "      <td>Express</td>\n",
       "      <td>No</td>\n",
       "      <td>No</td>\n",
       "      <td>1</td>\n",
       "      <td>Credit Card</td>\n",
       "      <td>Quarterly</td>\n",
       "    </tr>\n",
       "    <tr>\n",
       "      <th>1284</th>\n",
       "      <td>3892.0</td>\n",
       "      <td>36</td>\n",
       "      <td>Female</td>\n",
       "      <td>Dress</td>\n",
       "      <td>Clothing</td>\n",
       "      <td>30.0</td>\n",
       "      <td>Colorado</td>\n",
       "      <td>L</td>\n",
       "      <td>Peach</td>\n",
       "      <td>Winter</td>\n",
       "      <td>4.7</td>\n",
       "      <td>No</td>\n",
       "      <td>Free Shipping</td>\n",
       "      <td>No</td>\n",
       "      <td>No</td>\n",
       "      <td>6</td>\n",
       "      <td>Bank Transfer</td>\n",
       "      <td>Quarterly</td>\n",
       "    </tr>\n",
       "    <tr>\n",
       "      <th>1285</th>\n",
       "      <td>3895.0</td>\n",
       "      <td>66</td>\n",
       "      <td>Female</td>\n",
       "      <td>Skirt</td>\n",
       "      <td>Clothing</td>\n",
       "      <td>78.0</td>\n",
       "      <td>Connecticut</td>\n",
       "      <td>L</td>\n",
       "      <td>White</td>\n",
       "      <td>Spring</td>\n",
       "      <td>3.9</td>\n",
       "      <td>No</td>\n",
       "      <td>2-Day Shipping</td>\n",
       "      <td>No</td>\n",
       "      <td>No</td>\n",
       "      <td>44</td>\n",
       "      <td>Credit Card</td>\n",
       "      <td>Every 3 Months</td>\n",
       "    </tr>\n",
       "  </tbody>\n",
       "</table>\n",
       "<p>1286 rows × 18 columns</p>\n",
       "</div>"
      ],
      "text/plain": [
       "      CustomerID  Age  Gender ItemPurchased     Category  PurchaseAmountUSD  \\\n",
       "0            1.0   55    Male        Blouse     Clothing               53.0   \n",
       "1            2.0   19    Male       Sweater     Clothing               64.0   \n",
       "2            6.0   46    Male      Sneakers     Footwear               20.0   \n",
       "3            7.0   63    Male         Shirt     Clothing               85.0   \n",
       "4            8.0   27    Male        Shorts     Clothing               34.0   \n",
       "...          ...  ...     ...           ...          ...                ...   \n",
       "1281      3881.0   42  Female         Shirt     Clothing               20.0   \n",
       "1282      3882.0   56  Female         Scarf  Accessories               25.0   \n",
       "1283      3888.0   40  Female         Shirt     Clothing               34.0   \n",
       "1284      3892.0   36  Female         Dress     Clothing               30.0   \n",
       "1285      3895.0   66  Female         Skirt     Clothing               78.0   \n",
       "\n",
       "           Location Size     Color  Season  ReviewRating SubscriptionStatus  \\\n",
       "0          Kentucky    L      Gray  Winter           3.1                Yes   \n",
       "1             Maine    L    Maroon  Winter           3.1                Yes   \n",
       "2           Wyoming    M     White  Summer           2.9                Yes   \n",
       "3           Montana    M      Gray    Fall           3.2                Yes   \n",
       "4         Louisiana    L  Charcoal  Winter           3.2                Yes   \n",
       "...             ...  ...       ...     ...           ...                ...   \n",
       "1281  Massachusetts    M       Red  Winter           3.9                 No   \n",
       "1282        Georgia    L    Silver  Spring           2.8                 No   \n",
       "1283         Kansas    M  Charcoal  Spring           2.7                 No   \n",
       "1284       Colorado    L     Peach  Winter           4.7                 No   \n",
       "1285    Connecticut    L     White  Spring           3.9                 No   \n",
       "\n",
       "        ShippingType DiscountApplied PromoCodeUsed  PreviousPurchases  \\\n",
       "0            Express             Yes           Yes                 14   \n",
       "1            Express             Yes           Yes                  2   \n",
       "2           Standard             Yes           Yes                 14   \n",
       "3      Free Shipping             Yes           Yes                 49   \n",
       "4      Free Shipping             Yes           Yes                 19   \n",
       "...              ...             ...           ...                ...   \n",
       "1281   Free Shipping              No            No                 40   \n",
       "1282  2-Day Shipping              No            No                 17   \n",
       "1283         Express              No            No                  1   \n",
       "1284   Free Shipping              No            No                  6   \n",
       "1285  2-Day Shipping              No            No                 44   \n",
       "\n",
       "      PaymentMethod FrequencyofPurchases  \n",
       "0             Venmo          Fortnightly  \n",
       "1              Cash          Fortnightly  \n",
       "2             Venmo               Weekly  \n",
       "3              Cash            Quarterly  \n",
       "4       Credit Card               Weekly  \n",
       "...             ...                  ...  \n",
       "1281         PayPal              Monthly  \n",
       "1282     Debit Card               Weekly  \n",
       "1283    Credit Card            Quarterly  \n",
       "1284  Bank Transfer            Quarterly  \n",
       "1285    Credit Card       Every 3 Months  \n",
       "\n",
       "[1286 rows x 18 columns]"
      ]
     },
     "execution_count": 15,
     "metadata": {},
     "output_type": "execute_result"
    }
   ],
   "source": [
    "\n",
    "FILENAME_DATASET = \"C:\\\\Users\\\\ngoum\\\\Desktop\\\\deuxieme semestre paquet\\\\PROJEKT ZUR ABGABE\\\\BVG_Projet\\\\WBG_Projekt\\\\notebook\\\\data_customers_shopping.csv\"  # Hier den Pfad anpassen\n",
    "raw_data = pd.read_csv(FILENAME_DATASET,sep=\",\")\n",
    "\n",
    "raw_data"
   ]
  },
  {
   "cell_type": "code",
   "execution_count": 16,
   "metadata": {},
   "outputs": [
    {
     "data": {
      "text/plain": [
       "CustomerID              float64\n",
       "Age                       int64\n",
       "Gender                   object\n",
       "ItemPurchased            object\n",
       "Category                 object\n",
       "PurchaseAmountUSD       float64\n",
       "Location                 object\n",
       "Size                     object\n",
       "Color                    object\n",
       "Season                   object\n",
       "ReviewRating            float64\n",
       "SubscriptionStatus       object\n",
       "ShippingType             object\n",
       "DiscountApplied          object\n",
       "PromoCodeUsed            object\n",
       "PreviousPurchases         int64\n",
       "PaymentMethod            object\n",
       "FrequencyofPurchases     object\n",
       "dtype: object"
      ]
     },
     "execution_count": 16,
     "metadata": {},
     "output_type": "execute_result"
    }
   ],
   "source": [
    "raw_data.dtypes   #  Diese Methode  gibt die Datentypen  der Spalten unserer  DataFrame an "
   ]
  },
  {
   "cell_type": "code",
   "execution_count": 17,
   "metadata": {},
   "outputs": [
    {
     "data": {
      "text/plain": [
       "Index(['CustomerID', 'Age', 'Gender', 'ItemPurchased', 'Category',\n",
       "       'PurchaseAmountUSD', 'Location', 'Size', 'Color', 'Season',\n",
       "       'ReviewRating', 'SubscriptionStatus', 'ShippingType', 'DiscountApplied',\n",
       "       'PromoCodeUsed', 'PreviousPurchases', 'PaymentMethod',\n",
       "       'FrequencyofPurchases'],\n",
       "      dtype='object')"
      ]
     },
     "execution_count": 17,
     "metadata": {},
     "output_type": "execute_result"
    }
   ],
   "source": [
    "# Spaltennamen anzeigen\n",
    "\n",
    "raw_data.columns"
   ]
  },
  {
   "cell_type": "markdown",
   "metadata": {},
   "source": [
    "Unter Berücksichtigung unserer Hypothese , werden wir uns nur mit den Variablen **Age**  , **PurchaseAmountUSD** , **Season**, **PromoCodeUsed**, **PaymentMethod** und **DiscountApplied**  beschäftigen."
   ]
  },
  {
   "cell_type": "markdown",
   "metadata": {},
   "source": [
    "##  DATENAUFBEREITUNG\n",
    "\n",
    "\n",
    "In diesem Teil der Arbeit  wollen wir uns mit der weiteren Aufbereitung der Umfragedaten beschäftigen. Konkret wollen wir:\n",
    "- Daten laden, ergänzen und manipulieren\n",
    "- den Datensatz auf fehlende und fehlerhafte Werte überprüfen\n",
    "- Fehlwerte bereinigen bzw. imputieren\n",
    "- Dokumentation von hinzugefügten Features (Variablen) sowie der Datensatzbereinigung.\n"
   ]
  },
  {
   "cell_type": "markdown",
   "metadata": {},
   "source": [
    "Jetzt Können wir unseren Datensatz mit relevanten Variablen neu laden, ergänzen und manipulieren."
   ]
  },
  {
   "cell_type": "code",
   "execution_count": 18,
   "metadata": {},
   "outputs": [
    {
     "data": {
      "text/html": [
       "<div>\n",
       "<style scoped>\n",
       "    .dataframe tbody tr th:only-of-type {\n",
       "        vertical-align: middle;\n",
       "    }\n",
       "\n",
       "    .dataframe tbody tr th {\n",
       "        vertical-align: top;\n",
       "    }\n",
       "\n",
       "    .dataframe thead th {\n",
       "        text-align: right;\n",
       "    }\n",
       "</style>\n",
       "<table border=\"1\" class=\"dataframe\">\n",
       "  <thead>\n",
       "    <tr style=\"text-align: right;\">\n",
       "      <th></th>\n",
       "      <th>CustomerID</th>\n",
       "      <th>Age</th>\n",
       "      <th>PurchaseAmountUSD</th>\n",
       "      <th>Season</th>\n",
       "      <th>PromoCodeUsed</th>\n",
       "      <th>PaymentMethod</th>\n",
       "      <th>DiscountApplied</th>\n",
       "    </tr>\n",
       "  </thead>\n",
       "  <tbody>\n",
       "    <tr>\n",
       "      <th>0</th>\n",
       "      <td>1.0</td>\n",
       "      <td>55</td>\n",
       "      <td>53.0</td>\n",
       "      <td>Winter</td>\n",
       "      <td>Yes</td>\n",
       "      <td>Venmo</td>\n",
       "      <td>Yes</td>\n",
       "    </tr>\n",
       "    <tr>\n",
       "      <th>1</th>\n",
       "      <td>2.0</td>\n",
       "      <td>19</td>\n",
       "      <td>64.0</td>\n",
       "      <td>Winter</td>\n",
       "      <td>Yes</td>\n",
       "      <td>Cash</td>\n",
       "      <td>Yes</td>\n",
       "    </tr>\n",
       "    <tr>\n",
       "      <th>2</th>\n",
       "      <td>6.0</td>\n",
       "      <td>46</td>\n",
       "      <td>20.0</td>\n",
       "      <td>Summer</td>\n",
       "      <td>Yes</td>\n",
       "      <td>Venmo</td>\n",
       "      <td>Yes</td>\n",
       "    </tr>\n",
       "    <tr>\n",
       "      <th>3</th>\n",
       "      <td>7.0</td>\n",
       "      <td>63</td>\n",
       "      <td>85.0</td>\n",
       "      <td>Fall</td>\n",
       "      <td>Yes</td>\n",
       "      <td>Cash</td>\n",
       "      <td>Yes</td>\n",
       "    </tr>\n",
       "    <tr>\n",
       "      <th>4</th>\n",
       "      <td>8.0</td>\n",
       "      <td>27</td>\n",
       "      <td>34.0</td>\n",
       "      <td>Winter</td>\n",
       "      <td>Yes</td>\n",
       "      <td>Credit Card</td>\n",
       "      <td>Yes</td>\n",
       "    </tr>\n",
       "    <tr>\n",
       "      <th>...</th>\n",
       "      <td>...</td>\n",
       "      <td>...</td>\n",
       "      <td>...</td>\n",
       "      <td>...</td>\n",
       "      <td>...</td>\n",
       "      <td>...</td>\n",
       "      <td>...</td>\n",
       "    </tr>\n",
       "    <tr>\n",
       "      <th>1281</th>\n",
       "      <td>3881.0</td>\n",
       "      <td>42</td>\n",
       "      <td>20.0</td>\n",
       "      <td>Winter</td>\n",
       "      <td>No</td>\n",
       "      <td>PayPal</td>\n",
       "      <td>No</td>\n",
       "    </tr>\n",
       "    <tr>\n",
       "      <th>1282</th>\n",
       "      <td>3882.0</td>\n",
       "      <td>56</td>\n",
       "      <td>25.0</td>\n",
       "      <td>Spring</td>\n",
       "      <td>No</td>\n",
       "      <td>Debit Card</td>\n",
       "      <td>No</td>\n",
       "    </tr>\n",
       "    <tr>\n",
       "      <th>1283</th>\n",
       "      <td>3888.0</td>\n",
       "      <td>40</td>\n",
       "      <td>34.0</td>\n",
       "      <td>Spring</td>\n",
       "      <td>No</td>\n",
       "      <td>Credit Card</td>\n",
       "      <td>No</td>\n",
       "    </tr>\n",
       "    <tr>\n",
       "      <th>1284</th>\n",
       "      <td>3892.0</td>\n",
       "      <td>36</td>\n",
       "      <td>30.0</td>\n",
       "      <td>Winter</td>\n",
       "      <td>No</td>\n",
       "      <td>Bank Transfer</td>\n",
       "      <td>No</td>\n",
       "    </tr>\n",
       "    <tr>\n",
       "      <th>1285</th>\n",
       "      <td>3895.0</td>\n",
       "      <td>66</td>\n",
       "      <td>78.0</td>\n",
       "      <td>Spring</td>\n",
       "      <td>No</td>\n",
       "      <td>Credit Card</td>\n",
       "      <td>No</td>\n",
       "    </tr>\n",
       "  </tbody>\n",
       "</table>\n",
       "<p>1286 rows × 7 columns</p>\n",
       "</div>"
      ],
      "text/plain": [
       "      CustomerID  Age  PurchaseAmountUSD  Season PromoCodeUsed  PaymentMethod  \\\n",
       "0            1.0   55               53.0  Winter           Yes          Venmo   \n",
       "1            2.0   19               64.0  Winter           Yes           Cash   \n",
       "2            6.0   46               20.0  Summer           Yes          Venmo   \n",
       "3            7.0   63               85.0    Fall           Yes           Cash   \n",
       "4            8.0   27               34.0  Winter           Yes    Credit Card   \n",
       "...          ...  ...                ...     ...           ...            ...   \n",
       "1281      3881.0   42               20.0  Winter            No         PayPal   \n",
       "1282      3882.0   56               25.0  Spring            No     Debit Card   \n",
       "1283      3888.0   40               34.0  Spring            No    Credit Card   \n",
       "1284      3892.0   36               30.0  Winter            No  Bank Transfer   \n",
       "1285      3895.0   66               78.0  Spring            No    Credit Card   \n",
       "\n",
       "     DiscountApplied  \n",
       "0                Yes  \n",
       "1                Yes  \n",
       "2                Yes  \n",
       "3                Yes  \n",
       "4                Yes  \n",
       "...              ...  \n",
       "1281              No  \n",
       "1282              No  \n",
       "1283              No  \n",
       "1284              No  \n",
       "1285              No  \n",
       "\n",
       "[1286 rows x 7 columns]"
      ]
     },
     "execution_count": 18,
     "metadata": {},
     "output_type": "execute_result"
    }
   ],
   "source": [
    "# Dieses Befehl Wähle nur die benötigten Spalten aus. Dafür deklarieren wir die Variable 'benötigte_spalten', sie umfasst nur variablen des neuen DataFrame\n",
    "benötigte_spalten = ['CustomerID','Age', 'PurchaseAmountUSD', 'Season', 'PromoCodeUsed', 'PaymentMethod', 'DiscountApplied']\n",
    "\n",
    "\n",
    "\n",
    "# Die Variable **df** ist der neue DataFrame,der nur die ausgewählten Spalten für unsere Analyse enthält\n",
    "df = raw_data[benötigte_spalten]\n",
    "\n",
    "\n",
    "# Zeige das DataFrame mit den ausgewählten Spalten an\n",
    "df"
   ]
  },
  {
   "cell_type": "code",
   "execution_count": 19,
   "metadata": {},
   "outputs": [
    {
     "name": "stdout",
     "output_type": "stream",
     "text": [
      "<class 'pandas.core.frame.DataFrame'>\n",
      "RangeIndex: 1286 entries, 0 to 1285\n",
      "Data columns (total 7 columns):\n",
      " #   Column             Non-Null Count  Dtype  \n",
      "---  ------             --------------  -----  \n",
      " 0   CustomerID         1281 non-null   float64\n",
      " 1   Age                1286 non-null   int64  \n",
      " 2   PurchaseAmountUSD  1281 non-null   float64\n",
      " 3   Season             1286 non-null   object \n",
      " 4   PromoCodeUsed      1286 non-null   object \n",
      " 5   PaymentMethod      1286 non-null   object \n",
      " 6   DiscountApplied    1286 non-null   object \n",
      "dtypes: float64(2), int64(1), object(4)\n",
      "memory usage: 70.5+ KB\n"
     ]
    },
    {
     "data": {
      "text/plain": [
       "'\\nHier haben wir allgemeine Informationen über unseren DataFrame, d.h. die Gesamtzahl der Zeilen und Spalten.\\nDies ermöglicht es uns, anhand der Gesamtzahl der Zeilen die Anzahl der Zeilen mit fehlenden Werten abzuschätzen.\\n\\n \\n'"
      ]
     },
     "execution_count": 19,
     "metadata": {},
     "output_type": "execute_result"
    }
   ],
   "source": [
    "df.info()\n",
    "\n",
    "\"\"\"\n",
    "Hier haben wir allgemeine Informationen über unseren DataFrame, d.h. die Gesamtzahl der Zeilen und Spalten.\n",
    "Dies ermöglicht es uns, anhand der Gesamtzahl der Zeilen die Anzahl der Zeilen mit fehlenden Werten abzuschätzen.\n",
    "\n",
    " \n",
    "\"\"\""
   ]
  },
  {
   "cell_type": "code",
   "execution_count": 20,
   "metadata": {},
   "outputs": [
    {
     "data": {
      "text/plain": [
       "CustomerID           float64\n",
       "Age                    int64\n",
       "PurchaseAmountUSD    float64\n",
       "Season                object\n",
       "PromoCodeUsed         object\n",
       "PaymentMethod         object\n",
       "DiscountApplied       object\n",
       "dtype: object"
      ]
     },
     "execution_count": 20,
     "metadata": {},
     "output_type": "execute_result"
    }
   ],
   "source": [
    "df.dtypes\n",
    "# erlaubt, nur den Datentyp zu bestimmen"
   ]
  },
  {
   "cell_type": "markdown",
   "metadata": {},
   "source": [
    "Versuchen wir jetzt zu wissen wie viele Spalten und Zeilen vorhanden sind"
   ]
  },
  {
   "cell_type": "code",
   "execution_count": 21,
   "metadata": {},
   "outputs": [
    {
     "data": {
      "text/plain": [
       "(1286, 7)"
      ]
     },
     "execution_count": 21,
     "metadata": {},
     "output_type": "execute_result"
    }
   ],
   "source": [
    "df.shape    #Gibt die Anzahl der Zeilen und Spalten im DataFrame df an"
   ]
  },
  {
   "cell_type": "code",
   "execution_count": 22,
   "metadata": {},
   "outputs": [
    {
     "name": "stdout",
     "output_type": "stream",
     "text": [
      "Der Datensatz hat genau 1286 Zeilen und 7 Spalten. Die Dimension des Datensatzes ist korrekt.\n"
     ]
    }
   ],
   "source": [
    "\"\"\"\n",
    "sei: \n",
    " nSpalten: Anzahl der Spalten im DataFrame df\n",
    " nZeilen: Anzahl der Zeilen im DataFrame df\n",
    " Wenn nZeilen 1286 und nSpalten 7 entspricht, wird die korrekte Dimension des Datensatzes bestätigt\n",
    " Andernfalls wird eine Fehlermeldung ausgegeben\n",
    " Die beiden sind die definierten Variable\n",
    " \n",
    "\"\"\"\n",
    "\n",
    "nSpalten = df.shape[1]\n",
    "nZeilen = df.shape[0]\n",
    "if nZeilen == 1286 and nSpalten == 7:\n",
    "    print(\n",
    "        f\"Der Datensatz hat genau {nZeilen} Zeilen und {nSpalten} Spalten. Die Dimension des Datensatzes ist korrekt.\")\n",
    "else:\n",
    "    print(\"Fehler: Der Datensatz hat nicht die erwartete Dimension\")"
   ]
  },
  {
   "cell_type": "markdown",
   "metadata": {},
   "source": [
    "## Überprüfung, Bereinigung bzw. Imputierung des Datensatzes: **Fokus auf fehlende und fehlerhafte Werte**\n",
    " \n",
    "**Vielleicht fragen Sie sich, warum wir die Daten überprüfen, bereinigen bzw. imputieren müssen ?**\n",
    "\n",
    " Das Überprüfen, Bereinigen und Imputieren von Daten ist ein wichtiger Schritt, um sicherzustellen, dass die Daten qualitativ hochwertig, konsistent und vollständig sind, was wiederum zu genaueren und zuverlässigeren Analyseergebnissen führt.\n",
    "\n",
    "\n"
   ]
  },
  {
   "cell_type": "markdown",
   "metadata": {},
   "source": [
    "Jetzt zählen wir die Anzahl der Fehlwerte pro Variable."
   ]
  },
  {
   "cell_type": "code",
   "execution_count": 23,
   "metadata": {},
   "outputs": [
    {
     "name": "stdout",
     "output_type": "stream",
     "text": [
      "CustomerID           5\n",
      "Age                  0\n",
      "PurchaseAmountUSD    5\n",
      "Season               0\n",
      "PromoCodeUsed        0\n",
      "PaymentMethod        0\n",
      "DiscountApplied      0\n",
      "dtype: int64\n"
     ]
    },
    {
     "data": {
      "text/plain": [
       "CustomerID           float64\n",
       "Age                    int64\n",
       "PurchaseAmountUSD    float64\n",
       "Season                object\n",
       "PromoCodeUsed         object\n",
       "PaymentMethod         object\n",
       "DiscountApplied       object\n",
       "dtype: object"
      ]
     },
     "execution_count": 23,
     "metadata": {},
     "output_type": "execute_result"
    }
   ],
   "source": [
    "# Wir werden nun herauszufinden, wie viele Werte in jeder Spalte fehlen und welche Typen sie haben. Dafür führen wir den folgenden Befehl aus\n",
    "\n",
    " # df.isna().sum(): Gibt die Anzahl der fehlenden Werte für jede Spalte an\n",
    "print(df.isna().sum())          \n",
    "\n",
    "\n",
    "fehlende_werte = df.isnull().sum()\n",
    "\n",
    "df.dtypes"
   ]
  },
  {
   "cell_type": "markdown",
   "metadata": {},
   "source": [
    "Die Ergebnisse zeigen, dass die meisten Variablen  keine Fehlwerte haben, außer für die Variablen `CustomerID    `, `PurchaseAmountUSD    ` ."
   ]
  },
  {
   "cell_type": "markdown",
   "metadata": {},
   "source": [
    "*BEMERKUNG:*\n",
    "-----------\n",
    "\n",
    "1: Wir stellen fest, dass die Datentypen der Variable 'CustomerID' und 'PurchaseAmountUSD' nicht mit dem des Rohdatensatzes übereinstimmen.\n",
    " \n",
    "2: Für die Variable 'CustomerID' werden wir eine Rückumwandlung in ihren ursprünglichen Datentyp durchführen aber wir gehen davon aus, dass der Datentyp von 'PurchaseAmountUSD' beibehalten werden kann, da in finanziellen Angaben Dezimalzahlen auftreten können, wie zum Beispiel der Cent, der den Dezimalteil im Euro darstellt."
   ]
  },
  {
   "cell_type": "code",
   "execution_count": 24,
   "metadata": {},
   "outputs": [],
   "source": [
    "# Wandeln wir jetzt den Datentyp von CustomerID mit den entsprechenden Datentyp um d.h \"int\"\n",
    "\n",
    "df = df.astype  ({\"CustomerID\": \"UInt16\",\n",
    "                  \n",
    "                })"
   ]
  },
  {
   "cell_type": "code",
   "execution_count": 25,
   "metadata": {},
   "outputs": [
    {
     "data": {
      "text/html": [
       "<div>\n",
       "<style scoped>\n",
       "    .dataframe tbody tr th:only-of-type {\n",
       "        vertical-align: middle;\n",
       "    }\n",
       "\n",
       "    .dataframe tbody tr th {\n",
       "        vertical-align: top;\n",
       "    }\n",
       "\n",
       "    .dataframe thead th {\n",
       "        text-align: right;\n",
       "    }\n",
       "</style>\n",
       "<table border=\"1\" class=\"dataframe\">\n",
       "  <thead>\n",
       "    <tr style=\"text-align: right;\">\n",
       "      <th></th>\n",
       "      <th>CustomerID</th>\n",
       "      <th>Age</th>\n",
       "      <th>PurchaseAmountUSD</th>\n",
       "      <th>Season</th>\n",
       "      <th>PromoCodeUsed</th>\n",
       "      <th>PaymentMethod</th>\n",
       "      <th>DiscountApplied</th>\n",
       "    </tr>\n",
       "  </thead>\n",
       "  <tbody>\n",
       "    <tr>\n",
       "      <th>0</th>\n",
       "      <td>1</td>\n",
       "      <td>55</td>\n",
       "      <td>53.0</td>\n",
       "      <td>Winter</td>\n",
       "      <td>Yes</td>\n",
       "      <td>Venmo</td>\n",
       "      <td>Yes</td>\n",
       "    </tr>\n",
       "    <tr>\n",
       "      <th>1</th>\n",
       "      <td>2</td>\n",
       "      <td>19</td>\n",
       "      <td>64.0</td>\n",
       "      <td>Winter</td>\n",
       "      <td>Yes</td>\n",
       "      <td>Cash</td>\n",
       "      <td>Yes</td>\n",
       "    </tr>\n",
       "    <tr>\n",
       "      <th>2</th>\n",
       "      <td>6</td>\n",
       "      <td>46</td>\n",
       "      <td>20.0</td>\n",
       "      <td>Summer</td>\n",
       "      <td>Yes</td>\n",
       "      <td>Venmo</td>\n",
       "      <td>Yes</td>\n",
       "    </tr>\n",
       "    <tr>\n",
       "      <th>3</th>\n",
       "      <td>7</td>\n",
       "      <td>63</td>\n",
       "      <td>85.0</td>\n",
       "      <td>Fall</td>\n",
       "      <td>Yes</td>\n",
       "      <td>Cash</td>\n",
       "      <td>Yes</td>\n",
       "    </tr>\n",
       "    <tr>\n",
       "      <th>4</th>\n",
       "      <td>8</td>\n",
       "      <td>27</td>\n",
       "      <td>34.0</td>\n",
       "      <td>Winter</td>\n",
       "      <td>Yes</td>\n",
       "      <td>Credit Card</td>\n",
       "      <td>Yes</td>\n",
       "    </tr>\n",
       "    <tr>\n",
       "      <th>...</th>\n",
       "      <td>...</td>\n",
       "      <td>...</td>\n",
       "      <td>...</td>\n",
       "      <td>...</td>\n",
       "      <td>...</td>\n",
       "      <td>...</td>\n",
       "      <td>...</td>\n",
       "    </tr>\n",
       "    <tr>\n",
       "      <th>1281</th>\n",
       "      <td>3881</td>\n",
       "      <td>42</td>\n",
       "      <td>20.0</td>\n",
       "      <td>Winter</td>\n",
       "      <td>No</td>\n",
       "      <td>PayPal</td>\n",
       "      <td>No</td>\n",
       "    </tr>\n",
       "    <tr>\n",
       "      <th>1282</th>\n",
       "      <td>3882</td>\n",
       "      <td>56</td>\n",
       "      <td>25.0</td>\n",
       "      <td>Spring</td>\n",
       "      <td>No</td>\n",
       "      <td>Debit Card</td>\n",
       "      <td>No</td>\n",
       "    </tr>\n",
       "    <tr>\n",
       "      <th>1283</th>\n",
       "      <td>3888</td>\n",
       "      <td>40</td>\n",
       "      <td>34.0</td>\n",
       "      <td>Spring</td>\n",
       "      <td>No</td>\n",
       "      <td>Credit Card</td>\n",
       "      <td>No</td>\n",
       "    </tr>\n",
       "    <tr>\n",
       "      <th>1284</th>\n",
       "      <td>3892</td>\n",
       "      <td>36</td>\n",
       "      <td>30.0</td>\n",
       "      <td>Winter</td>\n",
       "      <td>No</td>\n",
       "      <td>Bank Transfer</td>\n",
       "      <td>No</td>\n",
       "    </tr>\n",
       "    <tr>\n",
       "      <th>1285</th>\n",
       "      <td>3895</td>\n",
       "      <td>66</td>\n",
       "      <td>78.0</td>\n",
       "      <td>Spring</td>\n",
       "      <td>No</td>\n",
       "      <td>Credit Card</td>\n",
       "      <td>No</td>\n",
       "    </tr>\n",
       "  </tbody>\n",
       "</table>\n",
       "<p>1286 rows × 7 columns</p>\n",
       "</div>"
      ],
      "text/plain": [
       "      CustomerID  Age  PurchaseAmountUSD  Season PromoCodeUsed  PaymentMethod  \\\n",
       "0              1   55               53.0  Winter           Yes          Venmo   \n",
       "1              2   19               64.0  Winter           Yes           Cash   \n",
       "2              6   46               20.0  Summer           Yes          Venmo   \n",
       "3              7   63               85.0    Fall           Yes           Cash   \n",
       "4              8   27               34.0  Winter           Yes    Credit Card   \n",
       "...          ...  ...                ...     ...           ...            ...   \n",
       "1281        3881   42               20.0  Winter            No         PayPal   \n",
       "1282        3882   56               25.0  Spring            No     Debit Card   \n",
       "1283        3888   40               34.0  Spring            No    Credit Card   \n",
       "1284        3892   36               30.0  Winter            No  Bank Transfer   \n",
       "1285        3895   66               78.0  Spring            No    Credit Card   \n",
       "\n",
       "     DiscountApplied  \n",
       "0                Yes  \n",
       "1                Yes  \n",
       "2                Yes  \n",
       "3                Yes  \n",
       "4                Yes  \n",
       "...              ...  \n",
       "1281              No  \n",
       "1282              No  \n",
       "1283              No  \n",
       "1284              No  \n",
       "1285              No  \n",
       "\n",
       "[1286 rows x 7 columns]"
      ]
     },
     "execution_count": 25,
     "metadata": {},
     "output_type": "execute_result"
    }
   ],
   "source": [
    "\"\"\" \n",
    "wir lesen das DataFrame nochmal ein , um sich sicherzustellen ,dass das letze Befehl richtig durchgeführt worden ist. \n",
    "Sie werden darüber hinaus feststellen, dass alle dezimale Teile, die davor in der Spalte CustomerID waren, schon verschwunden sind\n",
    "\n",
    "\"\"\"\n",
    "df"
   ]
  },
  {
   "cell_type": "code",
   "execution_count": 26,
   "metadata": {},
   "outputs": [
    {
     "data": {
      "text/plain": [
       "CustomerID            UInt16\n",
       "Age                    int64\n",
       "PurchaseAmountUSD    float64\n",
       "Season                object\n",
       "PromoCodeUsed         object\n",
       "PaymentMethod         object\n",
       "DiscountApplied       object\n",
       "dtype: object"
      ]
     },
     "execution_count": 26,
     "metadata": {},
     "output_type": "execute_result"
    }
   ],
   "source": [
    "df.dtypes   #Zur Überprüfung, ob der Datentyp entsprechend umgewandelt wurde."
   ]
  },
  {
   "cell_type": "markdown",
   "metadata": {},
   "source": [
    "Wir werden jetzt Zeile mit  fehlende und fehlerhafte Werte bei der Spalte CustomerID  filtern und bereinigen"
   ]
  },
  {
   "cell_type": "code",
   "execution_count": 27,
   "metadata": {},
   "outputs": [
    {
     "name": "stdout",
     "output_type": "stream",
     "text": [
      "517     <NA>\n",
      "767     <NA>\n",
      "866     <NA>\n",
      "974     <NA>\n",
      "1146    <NA>\n",
      "Name: CustomerID, dtype: UInt16\n"
     ]
    },
    {
     "data": {
      "text/plain": [
       "\" \\n    df['CustomerID'].between(1, 4000) gibt eine boolesche Serie zurück, die True für Werte innerhalb des Bereichs und False für Werte außerhalb des Bereichs enthält. \\n    Das Tilde-Zeichen (~) negiert diese boolesche Serie, sodass True für Werte außerhalb des Bereichs und False für Werte innerhalb des Bereichs steht.\\n    enthält schließlich die ungültigen Werte der 'CustomerID', die dann mit print(invalid_valuesByCustomerID) ausgegeben werden.\\n\\n\""
      ]
     },
     "execution_count": 27,
     "metadata": {},
     "output_type": "execute_result"
    }
   ],
   "source": [
    "invalid_valuesByCustomerID = df[df['CustomerID'].isnull() | (~df['CustomerID'].between(1, 4000))]['CustomerID']\n",
    "print(invalid_valuesByCustomerID)\n",
    "\n",
    "\n",
    "\"\"\" \n",
    "    df['CustomerID'].between(1, 4000) gibt eine boolesche Serie zurück, die True für Werte innerhalb des Bereichs und False für Werte außerhalb des Bereichs enthält. \n",
    "    Das Tilde-Zeichen (~) negiert diese boolesche Serie, sodass True für Werte außerhalb des Bereichs und False für Werte innerhalb des Bereichs steht.\n",
    "    enthält schließlich die ungültigen Werte der 'CustomerID', die dann mit print(invalid_valuesByCustomerID) ausgegeben werden.\n",
    "\n",
    "\"\"\""
   ]
  },
  {
   "cell_type": "markdown",
   "metadata": {},
   "source": [
    "Man kann feststellen, dass in den Zeilen 517  , 767   , 866  , 974 und 1146 der Spalte \"CustomerID\" fehlende Werte vorhanden sind."
   ]
  },
  {
   "cell_type": "code",
   "execution_count": 28,
   "metadata": {},
   "outputs": [
    {
     "data": {
      "text/plain": [
       "CustomerID           0.388802\n",
       "Age                  0.000000\n",
       "PurchaseAmountUSD    0.388802\n",
       "Season               0.000000\n",
       "PromoCodeUsed        0.000000\n",
       "PaymentMethod        0.000000\n",
       "DiscountApplied      0.000000\n",
       "dtype: float64"
      ]
     },
     "execution_count": 28,
     "metadata": {},
     "output_type": "execute_result"
    }
   ],
   "source": [
    "#Der relativer Anteil dient dazu, den Beitrag einer Teilmenge im Verhältnis zum  Gesamtbetrag zu quantifizieren.\n",
    "\n",
    "df.isnull().sum() / len(df) * 100    #Berechnet den prozentualen Anteil der fehlenden Werte für jede Spalte im DataFrame df"
   ]
  },
  {
   "cell_type": "markdown",
   "metadata": {},
   "source": [
    "- Da der relative Anteil der fehlenden Werte in der Spalte 'CustomerID' sehr niedrig ist (0.388802 %), können wir erwägen, diese Zeilen zu löschen, da sie nur einen geringen Einfluss auf den Gesamtdatensatz haben."
   ]
  },
  {
   "cell_type": "code",
   "execution_count": 29,
   "metadata": {},
   "outputs": [
    {
     "data": {
      "text/plain": [
       "(1281, 7)"
      ]
     },
     "execution_count": 29,
     "metadata": {},
     "output_type": "execute_result"
    }
   ],
   "source": [
    "# Lösche nur die Zeilen, für die die Werte in der Spalte CustomerID fehlen\n",
    "df.dropna(subset=[\"CustomerID\"]).shape\n",
    "\n",
    "# Wir werden jetzt 1281 Zeile und 7 Spalten haben."
   ]
  },
  {
   "cell_type": "markdown",
   "metadata": {},
   "source": [
    "- Da wir bestimmte Zeilen gelöscht haben, müssen wir nun unseren DataFrame aktualisieren, damit er die vorherige Aktion berücksichtigt. Andernfalls würde er weiterhin mit 1286 Zeilen arbeiten, obwohl wir nur noch 1281 haben. Um dies zu tun, werden wir eine neue Variable df_1 erstellen und unserem alten DataFrame den Namen zuweisen. Diese neue Variable wird die zuvor vorgenommenen Änderungen berücksichtigen."
   ]
  },
  {
   "cell_type": "code",
   "execution_count": 30,
   "metadata": {},
   "outputs": [
    {
     "data": {
      "text/plain": [
       "(1281, 7)"
      ]
     },
     "execution_count": 30,
     "metadata": {},
     "output_type": "execute_result"
    }
   ],
   "source": [
    "#Hier aktualisieren wir unseren DataFrame, um mit der Bereinigung fortzufahren und dabei die vorherige Bereinigung zu berücksichtigen.\n",
    "df_1 = df.dropna(subset=[\"CustomerID\"]) # df_1 wird der Name des neuen DataFrames für die Fortsetzung der Bereinigung sein.\n",
    "df_1.shape"
   ]
  },
  {
   "cell_type": "markdown",
   "metadata": {},
   "source": [
    "Erste Bereinigung abgeschlossen!"
   ]
  },
  {
   "cell_type": "markdown",
   "metadata": {},
   "source": [
    "\n",
    "- Jetzt werden wir die Zeilen mit fehlende und fehlerhafte Werte bei der Spalte PurchaseAmountUSD  filtern und bereinigen.\n",
    "\n",
    "Dafür werden wir die Variable is_Negative_values deklarieren. Diese Variable wird es uns ermöglichen, alle Zeilen mit sowohl negativen als auch fehlenden Werten zu extrahieren. Zuerst werden wir die negativen Werte in positive umwandeln, indem wir das Prinzip der absoluten Werte anwenden. Dann werden wir die fehlenden Werte durch den Durchschnittswert mit der Methode *mean* ersetzen."
   ]
  },
  {
   "cell_type": "code",
   "execution_count": 31,
   "metadata": {},
   "outputs": [
    {
     "data": {
      "text/html": [
       "<div>\n",
       "<style scoped>\n",
       "    .dataframe tbody tr th:only-of-type {\n",
       "        vertical-align: middle;\n",
       "    }\n",
       "\n",
       "    .dataframe tbody tr th {\n",
       "        vertical-align: top;\n",
       "    }\n",
       "\n",
       "    .dataframe thead th {\n",
       "        text-align: right;\n",
       "    }\n",
       "</style>\n",
       "<table border=\"1\" class=\"dataframe\">\n",
       "  <thead>\n",
       "    <tr style=\"text-align: right;\">\n",
       "      <th></th>\n",
       "      <th>CustomerID</th>\n",
       "      <th>Age</th>\n",
       "      <th>PurchaseAmountUSD</th>\n",
       "      <th>Season</th>\n",
       "      <th>PromoCodeUsed</th>\n",
       "      <th>PaymentMethod</th>\n",
       "      <th>DiscountApplied</th>\n",
       "    </tr>\n",
       "  </thead>\n",
       "  <tbody>\n",
       "    <tr>\n",
       "      <th>0</th>\n",
       "      <td>1</td>\n",
       "      <td>55</td>\n",
       "      <td>53.0</td>\n",
       "      <td>Winter</td>\n",
       "      <td>Yes</td>\n",
       "      <td>Venmo</td>\n",
       "      <td>Yes</td>\n",
       "    </tr>\n",
       "    <tr>\n",
       "      <th>1</th>\n",
       "      <td>2</td>\n",
       "      <td>19</td>\n",
       "      <td>64.0</td>\n",
       "      <td>Winter</td>\n",
       "      <td>Yes</td>\n",
       "      <td>Cash</td>\n",
       "      <td>Yes</td>\n",
       "    </tr>\n",
       "    <tr>\n",
       "      <th>2</th>\n",
       "      <td>6</td>\n",
       "      <td>46</td>\n",
       "      <td>20.0</td>\n",
       "      <td>Summer</td>\n",
       "      <td>Yes</td>\n",
       "      <td>Venmo</td>\n",
       "      <td>Yes</td>\n",
       "    </tr>\n",
       "    <tr>\n",
       "      <th>3</th>\n",
       "      <td>7</td>\n",
       "      <td>63</td>\n",
       "      <td>85.0</td>\n",
       "      <td>Fall</td>\n",
       "      <td>Yes</td>\n",
       "      <td>Cash</td>\n",
       "      <td>Yes</td>\n",
       "    </tr>\n",
       "    <tr>\n",
       "      <th>4</th>\n",
       "      <td>8</td>\n",
       "      <td>27</td>\n",
       "      <td>34.0</td>\n",
       "      <td>Winter</td>\n",
       "      <td>Yes</td>\n",
       "      <td>Credit Card</td>\n",
       "      <td>Yes</td>\n",
       "    </tr>\n",
       "    <tr>\n",
       "      <th>...</th>\n",
       "      <td>...</td>\n",
       "      <td>...</td>\n",
       "      <td>...</td>\n",
       "      <td>...</td>\n",
       "      <td>...</td>\n",
       "      <td>...</td>\n",
       "      <td>...</td>\n",
       "    </tr>\n",
       "    <tr>\n",
       "      <th>1281</th>\n",
       "      <td>3881</td>\n",
       "      <td>42</td>\n",
       "      <td>20.0</td>\n",
       "      <td>Winter</td>\n",
       "      <td>No</td>\n",
       "      <td>PayPal</td>\n",
       "      <td>No</td>\n",
       "    </tr>\n",
       "    <tr>\n",
       "      <th>1282</th>\n",
       "      <td>3882</td>\n",
       "      <td>56</td>\n",
       "      <td>25.0</td>\n",
       "      <td>Spring</td>\n",
       "      <td>No</td>\n",
       "      <td>Debit Card</td>\n",
       "      <td>No</td>\n",
       "    </tr>\n",
       "    <tr>\n",
       "      <th>1283</th>\n",
       "      <td>3888</td>\n",
       "      <td>40</td>\n",
       "      <td>34.0</td>\n",
       "      <td>Spring</td>\n",
       "      <td>No</td>\n",
       "      <td>Credit Card</td>\n",
       "      <td>No</td>\n",
       "    </tr>\n",
       "    <tr>\n",
       "      <th>1284</th>\n",
       "      <td>3892</td>\n",
       "      <td>36</td>\n",
       "      <td>30.0</td>\n",
       "      <td>Winter</td>\n",
       "      <td>No</td>\n",
       "      <td>Bank Transfer</td>\n",
       "      <td>No</td>\n",
       "    </tr>\n",
       "    <tr>\n",
       "      <th>1285</th>\n",
       "      <td>3895</td>\n",
       "      <td>66</td>\n",
       "      <td>78.0</td>\n",
       "      <td>Spring</td>\n",
       "      <td>No</td>\n",
       "      <td>Credit Card</td>\n",
       "      <td>No</td>\n",
       "    </tr>\n",
       "  </tbody>\n",
       "</table>\n",
       "<p>1281 rows × 7 columns</p>\n",
       "</div>"
      ],
      "text/plain": [
       "      CustomerID  Age  PurchaseAmountUSD  Season PromoCodeUsed  PaymentMethod  \\\n",
       "0              1   55               53.0  Winter           Yes          Venmo   \n",
       "1              2   19               64.0  Winter           Yes           Cash   \n",
       "2              6   46               20.0  Summer           Yes          Venmo   \n",
       "3              7   63               85.0    Fall           Yes           Cash   \n",
       "4              8   27               34.0  Winter           Yes    Credit Card   \n",
       "...          ...  ...                ...     ...           ...            ...   \n",
       "1281        3881   42               20.0  Winter            No         PayPal   \n",
       "1282        3882   56               25.0  Spring            No     Debit Card   \n",
       "1283        3888   40               34.0  Spring            No    Credit Card   \n",
       "1284        3892   36               30.0  Winter            No  Bank Transfer   \n",
       "1285        3895   66               78.0  Spring            No    Credit Card   \n",
       "\n",
       "     DiscountApplied  \n",
       "0                Yes  \n",
       "1                Yes  \n",
       "2                Yes  \n",
       "3                Yes  \n",
       "4                Yes  \n",
       "...              ...  \n",
       "1281              No  \n",
       "1282              No  \n",
       "1283              No  \n",
       "1284              No  \n",
       "1285              No  \n",
       "\n",
       "[1281 rows x 7 columns]"
      ]
     },
     "execution_count": 31,
     "metadata": {},
     "output_type": "execute_result"
    }
   ],
   "source": [
    "df_1 "
   ]
  },
  {
   "cell_type": "code",
   "execution_count": 32,
   "metadata": {},
   "outputs": [
    {
     "name": "stdout",
     "output_type": "stream",
     "text": [
      "Ungültige Werte für 'PurchaseAmountUSD':\n",
      "22     -821.0\n",
      "53     -761.0\n",
      "103       NaN\n",
      "313       NaN\n",
      "319    -334.0\n",
      "364       NaN\n",
      "401    -401.0\n",
      "779       NaN\n",
      "816    -163.0\n",
      "842    -993.0\n",
      "904    -830.0\n",
      "905    -511.0\n",
      "1096   -916.0\n",
      "1116      NaN\n",
      "1244   -751.0\n",
      "1269   -104.0\n",
      "Name: PurchaseAmountUSD, dtype: float64\n"
     ]
    }
   ],
   "source": [
    "# Hier suchen wir nach allen Zeilen in dieser Spalte, deren Werte Null sind oder außerhalb des Bereichs 1 bis 1500 liegen bzw Fehlende Werte \n",
    "\n",
    "is_Negative_values = df_1[(df_1['PurchaseAmountUSD'].isnull()) | (~df_1['PurchaseAmountUSD'].between(1, 1500))]['PurchaseAmountUSD']\n",
    "\n",
    "# Ausgabe der ungültigen Werte für 'PurchaseAmountUSD'\n",
    "print(\"Ungültige Werte für 'PurchaseAmountUSD':\")\n",
    "print(is_Negative_values)\n"
   ]
  },
  {
   "cell_type": "markdown",
   "metadata": {},
   "source": [
    "Für die Bereinigung dieser Spalte werden wir zuerst negative Werte durch ihre Absolutwerte ersetzen und dann die NaN-Werte durch den Mittelwert von PurchaseAmountUSD ersetzen."
   ]
  },
  {
   "cell_type": "code",
   "execution_count": 33,
   "metadata": {},
   "outputs": [
    {
     "name": "stderr",
     "output_type": "stream",
     "text": [
      "C:\\Users\\ngoum\\AppData\\Local\\Temp\\ipykernel_28552\\2841871696.py:4: SettingWithCopyWarning: \n",
      "A value is trying to be set on a copy of a slice from a DataFrame.\n",
      "Try using .loc[row_indexer,col_indexer] = value instead\n",
      "\n",
      "See the caveats in the documentation: https://pandas.pydata.org/pandas-docs/stable/user_guide/indexing.html#returning-a-view-versus-a-copy\n",
      "  df_1['PurchaseAmountUSD'] = df_1['PurchaseAmountUSD'].apply(lambda x: abs(x))\n"
     ]
    }
   ],
   "source": [
    "# Ersetzen von negativen Werten durch positive Werte in der Spalte 'PurchaseAmountUSD'\n",
    "# Hier wenden wir das Prinzip der Absolutwerte an\n",
    "\n",
    "df_1['PurchaseAmountUSD'] = df_1['PurchaseAmountUSD'].apply(lambda x: abs(x))\n",
    "# Die Funktion apply(lambda x: abs(x)) wendet die Funktion abs() auf jeden Wert in der Spalte an, um den Absolutwert zu erhalten."
   ]
  },
  {
   "cell_type": "code",
   "execution_count": 34,
   "metadata": {},
   "outputs": [
    {
     "name": "stdout",
     "output_type": "stream",
     "text": [
      "Info: Alles in Ordnung für 'PurchaseAmountUSD'\n"
     ]
    }
   ],
   "source": [
    "# Überprüfen, ob alle Werte in der Spalte 'PurchaseAmountUSD' zwischen 0 und 1500 liegen\n",
    "# Wenn nicht, wird eine Warnung ausgegeben, ansonsten eine Bestätigungsmeldung\n",
    "\n",
    "true_PurchaseAmountUSD = \"PurchaseAmountUSD\"\n",
    "\n",
    "if not df_1[true_PurchaseAmountUSD].dropna().between(0, 1300).all():\n",
    "    print(f\"Warnung: Ungültige Werte für '{true_PurchaseAmountUSD}' gefunden\")\n",
    "else:\n",
    "    print(f\"Info: Alles in Ordnung für '{true_PurchaseAmountUSD}'\")"
   ]
  },
  {
   "cell_type": "code",
   "execution_count": 35,
   "metadata": {},
   "outputs": [
    {
     "data": {
      "text/html": [
       "<div>\n",
       "<style scoped>\n",
       "    .dataframe tbody tr th:only-of-type {\n",
       "        vertical-align: middle;\n",
       "    }\n",
       "\n",
       "    .dataframe tbody tr th {\n",
       "        vertical-align: top;\n",
       "    }\n",
       "\n",
       "    .dataframe thead th {\n",
       "        text-align: right;\n",
       "    }\n",
       "</style>\n",
       "<table border=\"1\" class=\"dataframe\">\n",
       "  <thead>\n",
       "    <tr style=\"text-align: right;\">\n",
       "      <th></th>\n",
       "      <th>CustomerID</th>\n",
       "      <th>Age</th>\n",
       "      <th>PurchaseAmountUSD</th>\n",
       "      <th>Season</th>\n",
       "      <th>PromoCodeUsed</th>\n",
       "      <th>PaymentMethod</th>\n",
       "      <th>DiscountApplied</th>\n",
       "    </tr>\n",
       "  </thead>\n",
       "  <tbody>\n",
       "    <tr>\n",
       "      <th>0</th>\n",
       "      <td>1</td>\n",
       "      <td>55</td>\n",
       "      <td>53.0</td>\n",
       "      <td>Winter</td>\n",
       "      <td>Yes</td>\n",
       "      <td>Venmo</td>\n",
       "      <td>Yes</td>\n",
       "    </tr>\n",
       "    <tr>\n",
       "      <th>1</th>\n",
       "      <td>2</td>\n",
       "      <td>19</td>\n",
       "      <td>64.0</td>\n",
       "      <td>Winter</td>\n",
       "      <td>Yes</td>\n",
       "      <td>Cash</td>\n",
       "      <td>Yes</td>\n",
       "    </tr>\n",
       "    <tr>\n",
       "      <th>2</th>\n",
       "      <td>6</td>\n",
       "      <td>46</td>\n",
       "      <td>20.0</td>\n",
       "      <td>Summer</td>\n",
       "      <td>Yes</td>\n",
       "      <td>Venmo</td>\n",
       "      <td>Yes</td>\n",
       "    </tr>\n",
       "    <tr>\n",
       "      <th>3</th>\n",
       "      <td>7</td>\n",
       "      <td>63</td>\n",
       "      <td>85.0</td>\n",
       "      <td>Fall</td>\n",
       "      <td>Yes</td>\n",
       "      <td>Cash</td>\n",
       "      <td>Yes</td>\n",
       "    </tr>\n",
       "    <tr>\n",
       "      <th>4</th>\n",
       "      <td>8</td>\n",
       "      <td>27</td>\n",
       "      <td>34.0</td>\n",
       "      <td>Winter</td>\n",
       "      <td>Yes</td>\n",
       "      <td>Credit Card</td>\n",
       "      <td>Yes</td>\n",
       "    </tr>\n",
       "    <tr>\n",
       "      <th>...</th>\n",
       "      <td>...</td>\n",
       "      <td>...</td>\n",
       "      <td>...</td>\n",
       "      <td>...</td>\n",
       "      <td>...</td>\n",
       "      <td>...</td>\n",
       "      <td>...</td>\n",
       "    </tr>\n",
       "    <tr>\n",
       "      <th>1281</th>\n",
       "      <td>3881</td>\n",
       "      <td>42</td>\n",
       "      <td>20.0</td>\n",
       "      <td>Winter</td>\n",
       "      <td>No</td>\n",
       "      <td>PayPal</td>\n",
       "      <td>No</td>\n",
       "    </tr>\n",
       "    <tr>\n",
       "      <th>1282</th>\n",
       "      <td>3882</td>\n",
       "      <td>56</td>\n",
       "      <td>25.0</td>\n",
       "      <td>Spring</td>\n",
       "      <td>No</td>\n",
       "      <td>Debit Card</td>\n",
       "      <td>No</td>\n",
       "    </tr>\n",
       "    <tr>\n",
       "      <th>1283</th>\n",
       "      <td>3888</td>\n",
       "      <td>40</td>\n",
       "      <td>34.0</td>\n",
       "      <td>Spring</td>\n",
       "      <td>No</td>\n",
       "      <td>Credit Card</td>\n",
       "      <td>No</td>\n",
       "    </tr>\n",
       "    <tr>\n",
       "      <th>1284</th>\n",
       "      <td>3892</td>\n",
       "      <td>36</td>\n",
       "      <td>30.0</td>\n",
       "      <td>Winter</td>\n",
       "      <td>No</td>\n",
       "      <td>Bank Transfer</td>\n",
       "      <td>No</td>\n",
       "    </tr>\n",
       "    <tr>\n",
       "      <th>1285</th>\n",
       "      <td>3895</td>\n",
       "      <td>66</td>\n",
       "      <td>78.0</td>\n",
       "      <td>Spring</td>\n",
       "      <td>No</td>\n",
       "      <td>Credit Card</td>\n",
       "      <td>No</td>\n",
       "    </tr>\n",
       "  </tbody>\n",
       "</table>\n",
       "<p>1281 rows × 7 columns</p>\n",
       "</div>"
      ],
      "text/plain": [
       "      CustomerID  Age  PurchaseAmountUSD  Season PromoCodeUsed  PaymentMethod  \\\n",
       "0              1   55               53.0  Winter           Yes          Venmo   \n",
       "1              2   19               64.0  Winter           Yes           Cash   \n",
       "2              6   46               20.0  Summer           Yes          Venmo   \n",
       "3              7   63               85.0    Fall           Yes           Cash   \n",
       "4              8   27               34.0  Winter           Yes    Credit Card   \n",
       "...          ...  ...                ...     ...           ...            ...   \n",
       "1281        3881   42               20.0  Winter            No         PayPal   \n",
       "1282        3882   56               25.0  Spring            No     Debit Card   \n",
       "1283        3888   40               34.0  Spring            No    Credit Card   \n",
       "1284        3892   36               30.0  Winter            No  Bank Transfer   \n",
       "1285        3895   66               78.0  Spring            No    Credit Card   \n",
       "\n",
       "     DiscountApplied  \n",
       "0                Yes  \n",
       "1                Yes  \n",
       "2                Yes  \n",
       "3                Yes  \n",
       "4                Yes  \n",
       "...              ...  \n",
       "1281              No  \n",
       "1282              No  \n",
       "1283              No  \n",
       "1284              No  \n",
       "1285              No  \n",
       "\n",
       "[1281 rows x 7 columns]"
      ]
     },
     "execution_count": 35,
     "metadata": {},
     "output_type": "execute_result"
    }
   ],
   "source": [
    "df_1"
   ]
  },
  {
   "cell_type": "markdown",
   "metadata": {},
   "source": [
    "- Nachdem wir die negativen Werte korrigiert haben, werden wir versuchen, die fehlenden Werte durch den Mittelwert zu ersetzen. Dafür werden wir die 'mean'-Methode verwenden."
   ]
  },
  {
   "cell_type": "code",
   "execution_count": 36,
   "metadata": {},
   "outputs": [
    {
     "data": {
      "text/html": [
       "<div>\n",
       "<style scoped>\n",
       "    .dataframe tbody tr th:only-of-type {\n",
       "        vertical-align: middle;\n",
       "    }\n",
       "\n",
       "    .dataframe tbody tr th {\n",
       "        vertical-align: top;\n",
       "    }\n",
       "\n",
       "    .dataframe thead th {\n",
       "        text-align: right;\n",
       "    }\n",
       "</style>\n",
       "<table border=\"1\" class=\"dataframe\">\n",
       "  <thead>\n",
       "    <tr style=\"text-align: right;\">\n",
       "      <th></th>\n",
       "      <th>PurchaseAmountUSD</th>\n",
       "      <th>PurchaseAmountUSD</th>\n",
       "    </tr>\n",
       "  </thead>\n",
       "  <tbody>\n",
       "    <tr>\n",
       "      <th>0</th>\n",
       "      <td>53.0</td>\n",
       "      <td>53.000000</td>\n",
       "    </tr>\n",
       "    <tr>\n",
       "      <th>1</th>\n",
       "      <td>64.0</td>\n",
       "      <td>64.000000</td>\n",
       "    </tr>\n",
       "    <tr>\n",
       "      <th>2</th>\n",
       "      <td>20.0</td>\n",
       "      <td>20.000000</td>\n",
       "    </tr>\n",
       "    <tr>\n",
       "      <th>3</th>\n",
       "      <td>85.0</td>\n",
       "      <td>85.000000</td>\n",
       "    </tr>\n",
       "    <tr>\n",
       "      <th>4</th>\n",
       "      <td>34.0</td>\n",
       "      <td>34.000000</td>\n",
       "    </tr>\n",
       "    <tr>\n",
       "      <th>...</th>\n",
       "      <td>...</td>\n",
       "      <td>...</td>\n",
       "    </tr>\n",
       "    <tr>\n",
       "      <th>99</th>\n",
       "      <td>26.0</td>\n",
       "      <td>26.000000</td>\n",
       "    </tr>\n",
       "    <tr>\n",
       "      <th>100</th>\n",
       "      <td>74.0</td>\n",
       "      <td>74.000000</td>\n",
       "    </tr>\n",
       "    <tr>\n",
       "      <th>101</th>\n",
       "      <td>80.0</td>\n",
       "      <td>80.000000</td>\n",
       "    </tr>\n",
       "    <tr>\n",
       "      <th>102</th>\n",
       "      <td>98.0</td>\n",
       "      <td>98.000000</td>\n",
       "    </tr>\n",
       "    <tr>\n",
       "      <th>103</th>\n",
       "      <td>NaN</td>\n",
       "      <td>63.986677</td>\n",
       "    </tr>\n",
       "  </tbody>\n",
       "</table>\n",
       "<p>104 rows × 2 columns</p>\n",
       "</div>"
      ],
      "text/plain": [
       "     PurchaseAmountUSD  PurchaseAmountUSD\n",
       "0                 53.0          53.000000\n",
       "1                 64.0          64.000000\n",
       "2                 20.0          20.000000\n",
       "3                 85.0          85.000000\n",
       "4                 34.0          34.000000\n",
       "..                 ...                ...\n",
       "99                26.0          26.000000\n",
       "100               74.0          74.000000\n",
       "101               80.0          80.000000\n",
       "102               98.0          98.000000\n",
       "103                NaN          63.986677\n",
       "\n",
       "[104 rows x 2 columns]"
      ]
     },
     "execution_count": 36,
     "metadata": {},
     "output_type": "execute_result"
    }
   ],
   "source": [
    "mean_imputer = SimpleImputer(strategy='mean')   # Definiere den Imputer mit der Strategie 'mean' (Mittelwert)\n",
    "\n",
    "VARIABLE_TO_IMPUTE = \"PurchaseAmountUSD\"  # Wähle eine Variable aus\n",
    "\n",
    "#Imputiere die fehlenden Werte\n",
    "result_mean_imputer = mean_imputer.fit_transform(\n",
    "    df_1[VARIABLE_TO_IMPUTE].values.reshape(-1, 1))\n",
    "\n",
    "# Erstelle ein DataFrame mit den imputierten Werten, der df_1_imputed heißt.\n",
    "df_1_imputed = pd.DataFrame(result_mean_imputer, columns=[\n",
    "                          VARIABLE_TO_IMPUTE], index=df_1.index)\n",
    "\n",
    "# Vergleich die beiden Spalten\n",
    "pd.concat([df_1[VARIABLE_TO_IMPUTE], df_1_imputed], axis=1).head(104)"
   ]
  },
  {
   "cell_type": "markdown",
   "metadata": {},
   "source": [
    "- Sie können den Unterschied an der Zeile 103 feststellen, die zu den Zeilen mit fehlenden Werten gehörte, aber jetzt einen Wert hat, der den Durchschnitt (63.986677) repräsentiert. Das gilt auch für alle anderen Zeilen mit fehlenden Werten. Um dies zu überprüfen, ändern Sie einfach die Anzahl der anzuzeigenden Zeilen in der head()-Funktion wie folgt:\n",
    "\n",
    "------------- pd.concat([df_1[VARIABLE_TO_IMPUTE], df_1_imputed], axis=1).head(*Enter the number of Line to show*)-------------"
   ]
  },
  {
   "cell_type": "markdown",
   "metadata": {},
   "source": [
    "Nun ersetzen wir die Spalte 'PurchaseAmountUSD' durch die imputierten Werte."
   ]
  },
  {
   "cell_type": "code",
   "execution_count": 37,
   "metadata": {},
   "outputs": [
    {
     "name": "stderr",
     "output_type": "stream",
     "text": [
      "C:\\Users\\ngoum\\AppData\\Local\\Temp\\ipykernel_28552\\1995307173.py:2: FutureWarning: A value is trying to be set on a copy of a DataFrame or Series through chained assignment using an inplace method.\n",
      "The behavior will change in pandas 3.0. This inplace method will never work because the intermediate object on which we are setting values always behaves as a copy.\n",
      "\n",
      "For example, when doing 'df[col].method(value, inplace=True)', try using 'df.method({col: value}, inplace=True)' or df[col] = df[col].method(value) instead, to perform the operation inplace on the original object.\n",
      "\n",
      "\n",
      "  df_1[VARIABLE_TO_IMPUTE].fillna(\n",
      "C:\\Users\\ngoum\\AppData\\Local\\Temp\\ipykernel_28552\\1995307173.py:2: SettingWithCopyWarning: \n",
      "A value is trying to be set on a copy of a slice from a DataFrame\n",
      "\n",
      "See the caveats in the documentation: https://pandas.pydata.org/pandas-docs/stable/user_guide/indexing.html#returning-a-view-versus-a-copy\n",
      "  df_1[VARIABLE_TO_IMPUTE].fillna(\n"
     ]
    }
   ],
   "source": [
    "# Ersetze die Spalte \"PurchaseAmountUSD\" durch die imputierten Werte\n",
    "df_1[VARIABLE_TO_IMPUTE].fillna(\n",
    "    df_1_imputed[VARIABLE_TO_IMPUTE]  , inplace=True)"
   ]
  },
  {
   "cell_type": "code",
   "execution_count": 38,
   "metadata": {},
   "outputs": [
    {
     "data": {
      "text/html": [
       "<div>\n",
       "<style scoped>\n",
       "    .dataframe tbody tr th:only-of-type {\n",
       "        vertical-align: middle;\n",
       "    }\n",
       "\n",
       "    .dataframe tbody tr th {\n",
       "        vertical-align: top;\n",
       "    }\n",
       "\n",
       "    .dataframe thead th {\n",
       "        text-align: right;\n",
       "    }\n",
       "</style>\n",
       "<table border=\"1\" class=\"dataframe\">\n",
       "  <thead>\n",
       "    <tr style=\"text-align: right;\">\n",
       "      <th></th>\n",
       "      <th>CustomerID</th>\n",
       "      <th>Age</th>\n",
       "      <th>PurchaseAmountUSD</th>\n",
       "      <th>Season</th>\n",
       "      <th>PromoCodeUsed</th>\n",
       "      <th>PaymentMethod</th>\n",
       "      <th>DiscountApplied</th>\n",
       "    </tr>\n",
       "  </thead>\n",
       "  <tbody>\n",
       "    <tr>\n",
       "      <th>0</th>\n",
       "      <td>1</td>\n",
       "      <td>55</td>\n",
       "      <td>53.0</td>\n",
       "      <td>Winter</td>\n",
       "      <td>Yes</td>\n",
       "      <td>Venmo</td>\n",
       "      <td>Yes</td>\n",
       "    </tr>\n",
       "    <tr>\n",
       "      <th>1</th>\n",
       "      <td>2</td>\n",
       "      <td>19</td>\n",
       "      <td>64.0</td>\n",
       "      <td>Winter</td>\n",
       "      <td>Yes</td>\n",
       "      <td>Cash</td>\n",
       "      <td>Yes</td>\n",
       "    </tr>\n",
       "    <tr>\n",
       "      <th>2</th>\n",
       "      <td>6</td>\n",
       "      <td>46</td>\n",
       "      <td>20.0</td>\n",
       "      <td>Summer</td>\n",
       "      <td>Yes</td>\n",
       "      <td>Venmo</td>\n",
       "      <td>Yes</td>\n",
       "    </tr>\n",
       "    <tr>\n",
       "      <th>3</th>\n",
       "      <td>7</td>\n",
       "      <td>63</td>\n",
       "      <td>85.0</td>\n",
       "      <td>Fall</td>\n",
       "      <td>Yes</td>\n",
       "      <td>Cash</td>\n",
       "      <td>Yes</td>\n",
       "    </tr>\n",
       "    <tr>\n",
       "      <th>4</th>\n",
       "      <td>8</td>\n",
       "      <td>27</td>\n",
       "      <td>34.0</td>\n",
       "      <td>Winter</td>\n",
       "      <td>Yes</td>\n",
       "      <td>Credit Card</td>\n",
       "      <td>Yes</td>\n",
       "    </tr>\n",
       "    <tr>\n",
       "      <th>...</th>\n",
       "      <td>...</td>\n",
       "      <td>...</td>\n",
       "      <td>...</td>\n",
       "      <td>...</td>\n",
       "      <td>...</td>\n",
       "      <td>...</td>\n",
       "      <td>...</td>\n",
       "    </tr>\n",
       "    <tr>\n",
       "      <th>1281</th>\n",
       "      <td>3881</td>\n",
       "      <td>42</td>\n",
       "      <td>20.0</td>\n",
       "      <td>Winter</td>\n",
       "      <td>No</td>\n",
       "      <td>PayPal</td>\n",
       "      <td>No</td>\n",
       "    </tr>\n",
       "    <tr>\n",
       "      <th>1282</th>\n",
       "      <td>3882</td>\n",
       "      <td>56</td>\n",
       "      <td>25.0</td>\n",
       "      <td>Spring</td>\n",
       "      <td>No</td>\n",
       "      <td>Debit Card</td>\n",
       "      <td>No</td>\n",
       "    </tr>\n",
       "    <tr>\n",
       "      <th>1283</th>\n",
       "      <td>3888</td>\n",
       "      <td>40</td>\n",
       "      <td>34.0</td>\n",
       "      <td>Spring</td>\n",
       "      <td>No</td>\n",
       "      <td>Credit Card</td>\n",
       "      <td>No</td>\n",
       "    </tr>\n",
       "    <tr>\n",
       "      <th>1284</th>\n",
       "      <td>3892</td>\n",
       "      <td>36</td>\n",
       "      <td>30.0</td>\n",
       "      <td>Winter</td>\n",
       "      <td>No</td>\n",
       "      <td>Bank Transfer</td>\n",
       "      <td>No</td>\n",
       "    </tr>\n",
       "    <tr>\n",
       "      <th>1285</th>\n",
       "      <td>3895</td>\n",
       "      <td>66</td>\n",
       "      <td>78.0</td>\n",
       "      <td>Spring</td>\n",
       "      <td>No</td>\n",
       "      <td>Credit Card</td>\n",
       "      <td>No</td>\n",
       "    </tr>\n",
       "  </tbody>\n",
       "</table>\n",
       "<p>1281 rows × 7 columns</p>\n",
       "</div>"
      ],
      "text/plain": [
       "      CustomerID  Age  PurchaseAmountUSD  Season PromoCodeUsed  PaymentMethod  \\\n",
       "0              1   55               53.0  Winter           Yes          Venmo   \n",
       "1              2   19               64.0  Winter           Yes           Cash   \n",
       "2              6   46               20.0  Summer           Yes          Venmo   \n",
       "3              7   63               85.0    Fall           Yes           Cash   \n",
       "4              8   27               34.0  Winter           Yes    Credit Card   \n",
       "...          ...  ...                ...     ...           ...            ...   \n",
       "1281        3881   42               20.0  Winter            No         PayPal   \n",
       "1282        3882   56               25.0  Spring            No     Debit Card   \n",
       "1283        3888   40               34.0  Spring            No    Credit Card   \n",
       "1284        3892   36               30.0  Winter            No  Bank Transfer   \n",
       "1285        3895   66               78.0  Spring            No    Credit Card   \n",
       "\n",
       "     DiscountApplied  \n",
       "0                Yes  \n",
       "1                Yes  \n",
       "2                Yes  \n",
       "3                Yes  \n",
       "4                Yes  \n",
       "...              ...  \n",
       "1281              No  \n",
       "1282              No  \n",
       "1283              No  \n",
       "1284              No  \n",
       "1285              No  \n",
       "\n",
       "[1281 rows x 7 columns]"
      ]
     },
     "execution_count": 38,
     "metadata": {},
     "output_type": "execute_result"
    }
   ],
   "source": [
    "df_1"
   ]
  },
  {
   "cell_type": "markdown",
   "metadata": {},
   "source": [
    "- Zweite Bereinigung abgeschlossen !"
   ]
  },
  {
   "cell_type": "markdown",
   "metadata": {},
   "source": [
    "- Nach Überprüfung des DataFrame haben wir festgestellt, dass in der Spalte für das Alter negative Werte vorhanden sind, die jedoch nicht gemeldet wurden, als wir alle Spalten mit ihren Gesamtfehlern anzeigen wollten.\n",
    "\n",
    "**Offene Frage:** *Warum wurde die Altersspalte nicht unter den Spalten aufgeführt, die Fehler enthalten?*  \n",
    "\n",
    "Dennoch werden wir diese Fehler korrigieren, um einen fehlerfreien DataFrame zu erhalten, der am Ende für die Nutzung bereit ist. Um dies zu bereinigen, werden wir sie durch ihre absoluten Werte ersetzen."
   ]
  },
  {
   "cell_type": "code",
   "execution_count": 39,
   "metadata": {},
   "outputs": [
    {
     "name": "stderr",
     "output_type": "stream",
     "text": [
      "C:\\Users\\ngoum\\AppData\\Local\\Temp\\ipykernel_28552\\2282266368.py:1: SettingWithCopyWarning: \n",
      "A value is trying to be set on a copy of a slice from a DataFrame.\n",
      "Try using .loc[row_indexer,col_indexer] = value instead\n",
      "\n",
      "See the caveats in the documentation: https://pandas.pydata.org/pandas-docs/stable/user_guide/indexing.html#returning-a-view-versus-a-copy\n",
      "  df_1['Age'] = df_1['Age'].apply(lambda x: abs(x))   #Negative Werte in der Spalte \"Age\" durch ihre entsprechenden absoluten Werte ersetzen\n"
     ]
    }
   ],
   "source": [
    "df_1['Age'] = df_1['Age'].apply(lambda x: abs(x))   #Negative Werte in der Spalte \"Age\" durch ihre entsprechenden absoluten Werte ersetzen"
   ]
  },
  {
   "cell_type": "markdown",
   "metadata": {},
   "source": [
    "- Eine **zweite offene Frage** kommt uns in den Sinn: *Gibt es möglicherweise Nachteile bei der Verwendung des Prinzips der absoluten Werte, um jedes Mal negative Werte in positive umzuwandeln ?*\n",
    "\n",
    "Es gibt wahrscheinlich Nachteile bei der Verwendung des Prinzips der absoluten Werte  wie: Verlust von Information, Verzerrung von Statistiken oder Fehlinterpretation von Ergebnissen. In unserem Fall sind jedoch die negativ ausgedrückten Werte diejenigen, die auch im wirklichen Leben normalerweise positiv sind. Nehmen wir als Beispiel unsere Variablen Alter und PurchaseAmountUSD, so gibt es im wirklichen Leben weder ein negatives Alter noch negative Ausgaben, also müssen sie logischerweise positiv sein. \n",
    "\n",
    "Dies funktioniert jedoch nicht in allen Fällen. Wenn wir z. B. eine Variable hätten, die nur Kundenbewertungen auf einem Skalar von z. B. -5 bis +5 auflistet, könnte das Prinzip der absoluten Werte die Ergebnisse verfälschen und sollte daher nicht verwendet werden."
   ]
  },
  {
   "cell_type": "code",
   "execution_count": 40,
   "metadata": {},
   "outputs": [
    {
     "data": {
      "text/html": [
       "<div>\n",
       "<style scoped>\n",
       "    .dataframe tbody tr th:only-of-type {\n",
       "        vertical-align: middle;\n",
       "    }\n",
       "\n",
       "    .dataframe tbody tr th {\n",
       "        vertical-align: top;\n",
       "    }\n",
       "\n",
       "    .dataframe thead th {\n",
       "        text-align: right;\n",
       "    }\n",
       "</style>\n",
       "<table border=\"1\" class=\"dataframe\">\n",
       "  <thead>\n",
       "    <tr style=\"text-align: right;\">\n",
       "      <th></th>\n",
       "      <th>CustomerID</th>\n",
       "      <th>Age</th>\n",
       "      <th>PurchaseAmountUSD</th>\n",
       "      <th>Season</th>\n",
       "      <th>PromoCodeUsed</th>\n",
       "      <th>PaymentMethod</th>\n",
       "      <th>DiscountApplied</th>\n",
       "    </tr>\n",
       "  </thead>\n",
       "  <tbody>\n",
       "    <tr>\n",
       "      <th>0</th>\n",
       "      <td>1</td>\n",
       "      <td>55</td>\n",
       "      <td>53.000000</td>\n",
       "      <td>Winter</td>\n",
       "      <td>Yes</td>\n",
       "      <td>Venmo</td>\n",
       "      <td>Yes</td>\n",
       "    </tr>\n",
       "    <tr>\n",
       "      <th>1</th>\n",
       "      <td>2</td>\n",
       "      <td>19</td>\n",
       "      <td>64.000000</td>\n",
       "      <td>Winter</td>\n",
       "      <td>Yes</td>\n",
       "      <td>Cash</td>\n",
       "      <td>Yes</td>\n",
       "    </tr>\n",
       "    <tr>\n",
       "      <th>2</th>\n",
       "      <td>6</td>\n",
       "      <td>46</td>\n",
       "      <td>20.000000</td>\n",
       "      <td>Summer</td>\n",
       "      <td>Yes</td>\n",
       "      <td>Venmo</td>\n",
       "      <td>Yes</td>\n",
       "    </tr>\n",
       "    <tr>\n",
       "      <th>3</th>\n",
       "      <td>7</td>\n",
       "      <td>63</td>\n",
       "      <td>85.000000</td>\n",
       "      <td>Fall</td>\n",
       "      <td>Yes</td>\n",
       "      <td>Cash</td>\n",
       "      <td>Yes</td>\n",
       "    </tr>\n",
       "    <tr>\n",
       "      <th>4</th>\n",
       "      <td>8</td>\n",
       "      <td>27</td>\n",
       "      <td>34.000000</td>\n",
       "      <td>Winter</td>\n",
       "      <td>Yes</td>\n",
       "      <td>Credit Card</td>\n",
       "      <td>Yes</td>\n",
       "    </tr>\n",
       "    <tr>\n",
       "      <th>...</th>\n",
       "      <td>...</td>\n",
       "      <td>...</td>\n",
       "      <td>...</td>\n",
       "      <td>...</td>\n",
       "      <td>...</td>\n",
       "      <td>...</td>\n",
       "      <td>...</td>\n",
       "    </tr>\n",
       "    <tr>\n",
       "      <th>777</th>\n",
       "      <td>2344</td>\n",
       "      <td>58</td>\n",
       "      <td>49.000000</td>\n",
       "      <td>Summer</td>\n",
       "      <td>No</td>\n",
       "      <td>PayPal</td>\n",
       "      <td>No</td>\n",
       "    </tr>\n",
       "    <tr>\n",
       "      <th>778</th>\n",
       "      <td>2345</td>\n",
       "      <td>34</td>\n",
       "      <td>92.000000</td>\n",
       "      <td>Fall</td>\n",
       "      <td>No</td>\n",
       "      <td>Venmo</td>\n",
       "      <td>No</td>\n",
       "    </tr>\n",
       "    <tr>\n",
       "      <th>779</th>\n",
       "      <td>2347</td>\n",
       "      <td>22</td>\n",
       "      <td>63.986677</td>\n",
       "      <td>Winter</td>\n",
       "      <td>No</td>\n",
       "      <td>Debit Card</td>\n",
       "      <td>No</td>\n",
       "    </tr>\n",
       "    <tr>\n",
       "      <th>780</th>\n",
       "      <td>2349</td>\n",
       "      <td>54</td>\n",
       "      <td>84.000000</td>\n",
       "      <td>Spring</td>\n",
       "      <td>No</td>\n",
       "      <td>PayPal</td>\n",
       "      <td>No</td>\n",
       "    </tr>\n",
       "    <tr>\n",
       "      <th>781</th>\n",
       "      <td>2350</td>\n",
       "      <td>65</td>\n",
       "      <td>34.000000</td>\n",
       "      <td>Fall</td>\n",
       "      <td>No</td>\n",
       "      <td>Credit Card</td>\n",
       "      <td>No</td>\n",
       "    </tr>\n",
       "  </tbody>\n",
       "</table>\n",
       "<p>780 rows × 7 columns</p>\n",
       "</div>"
      ],
      "text/plain": [
       "     CustomerID  Age  PurchaseAmountUSD  Season PromoCodeUsed PaymentMethod  \\\n",
       "0             1   55          53.000000  Winter           Yes         Venmo   \n",
       "1             2   19          64.000000  Winter           Yes          Cash   \n",
       "2             6   46          20.000000  Summer           Yes         Venmo   \n",
       "3             7   63          85.000000    Fall           Yes          Cash   \n",
       "4             8   27          34.000000  Winter           Yes   Credit Card   \n",
       "..          ...  ...                ...     ...           ...           ...   \n",
       "777        2344   58          49.000000  Summer            No        PayPal   \n",
       "778        2345   34          92.000000    Fall            No         Venmo   \n",
       "779        2347   22          63.986677  Winter            No    Debit Card   \n",
       "780        2349   54          84.000000  Spring            No        PayPal   \n",
       "781        2350   65          34.000000    Fall            No   Credit Card   \n",
       "\n",
       "    DiscountApplied  \n",
       "0               Yes  \n",
       "1               Yes  \n",
       "2               Yes  \n",
       "3               Yes  \n",
       "4               Yes  \n",
       "..              ...  \n",
       "777              No  \n",
       "778              No  \n",
       "779              No  \n",
       "780              No  \n",
       "781              No  \n",
       "\n",
       "[780 rows x 7 columns]"
      ]
     },
     "execution_count": 40,
     "metadata": {},
     "output_type": "execute_result"
    }
   ],
   "source": [
    "df_1.head(780)"
   ]
  },
  {
   "cell_type": "code",
   "execution_count": 41,
   "metadata": {},
   "outputs": [
    {
     "data": {
      "text/plain": [
       "CustomerID            UInt16\n",
       "Age                    int64\n",
       "PurchaseAmountUSD    float64\n",
       "Season                object\n",
       "PromoCodeUsed         object\n",
       "PaymentMethod         object\n",
       "DiscountApplied       object\n",
       "dtype: object"
      ]
     },
     "execution_count": 41,
     "metadata": {},
     "output_type": "execute_result"
    }
   ],
   "source": [
    "df_1.dtypes"
   ]
  },
  {
   "cell_type": "markdown",
   "metadata": {},
   "source": [
    "Wir möchten sicherstellen, dass es tatsächlich keine Fehler mehr gibt."
   ]
  },
  {
   "cell_type": "code",
   "execution_count": 42,
   "metadata": {},
   "outputs": [
    {
     "name": "stdout",
     "output_type": "stream",
     "text": [
      "CustomerID           0\n",
      "Age                  0\n",
      "PurchaseAmountUSD    0\n",
      "Season               0\n",
      "PromoCodeUsed        0\n",
      "PaymentMethod        0\n",
      "DiscountApplied      0\n",
      "dtype: int64\n"
     ]
    }
   ],
   "source": [
    "print(df_1.isna().sum())                      #Überprüfen auf fehlende Werte im DataFrame df_1 und Summieren der fehlenden Werte pro Spalte\n",
    "fehlende_werte_der_neue_df_1 = df_1.isnull().sum()      #Speichern der Anzahl der fehlenden Werte pro Spalte in einer Variablen"
   ]
  },
  {
   "cell_type": "code",
   "execution_count": 43,
   "metadata": {},
   "outputs": [
    {
     "data": {
      "text/plain": [
       "CustomerID           0.0\n",
       "Age                  0.0\n",
       "PurchaseAmountUSD    0.0\n",
       "Season               0.0\n",
       "PromoCodeUsed        0.0\n",
       "PaymentMethod        0.0\n",
       "DiscountApplied      0.0\n",
       "dtype: float64"
      ]
     },
     "execution_count": 43,
     "metadata": {},
     "output_type": "execute_result"
    }
   ],
   "source": [
    "df_1.isnull().sum() / len(df) * 100    "
   ]
  },
  {
   "cell_type": "markdown",
   "metadata": {},
   "source": [
    "Der Fehleranteil für jede Spalte beträgt jetzt 0,0 %.\n",
    "\n",
    "\n",
    "Dritte Bereinigung abgeschlossen!\n",
    "\n",
    "\n",
    "Die Daten sind bereits bereit für die Analyse. An dieser Stelle können wir eine neue Variable **df_cleaned** erstellen und dem alten DataFrame (df_1) zuweisen. Diese neue Variable repräsentiert unseren sauberen DataFrame, ohne Fehler oder fehlende Werte, und berücksichtigt auch die zuvor durchgeführten Operationen."
   ]
  },
  {
   "cell_type": "code",
   "execution_count": 44,
   "metadata": {},
   "outputs": [
    {
     "data": {
      "text/html": [
       "<div>\n",
       "<style scoped>\n",
       "    .dataframe tbody tr th:only-of-type {\n",
       "        vertical-align: middle;\n",
       "    }\n",
       "\n",
       "    .dataframe tbody tr th {\n",
       "        vertical-align: top;\n",
       "    }\n",
       "\n",
       "    .dataframe thead th {\n",
       "        text-align: right;\n",
       "    }\n",
       "</style>\n",
       "<table border=\"1\" class=\"dataframe\">\n",
       "  <thead>\n",
       "    <tr style=\"text-align: right;\">\n",
       "      <th></th>\n",
       "      <th>CustomerID</th>\n",
       "      <th>Age</th>\n",
       "      <th>PurchaseAmountUSD</th>\n",
       "      <th>Season</th>\n",
       "      <th>PromoCodeUsed</th>\n",
       "      <th>PaymentMethod</th>\n",
       "      <th>DiscountApplied</th>\n",
       "    </tr>\n",
       "  </thead>\n",
       "  <tbody>\n",
       "    <tr>\n",
       "      <th>0</th>\n",
       "      <td>1</td>\n",
       "      <td>55</td>\n",
       "      <td>53.0</td>\n",
       "      <td>Winter</td>\n",
       "      <td>Yes</td>\n",
       "      <td>Venmo</td>\n",
       "      <td>Yes</td>\n",
       "    </tr>\n",
       "    <tr>\n",
       "      <th>1</th>\n",
       "      <td>2</td>\n",
       "      <td>19</td>\n",
       "      <td>64.0</td>\n",
       "      <td>Winter</td>\n",
       "      <td>Yes</td>\n",
       "      <td>Cash</td>\n",
       "      <td>Yes</td>\n",
       "    </tr>\n",
       "    <tr>\n",
       "      <th>2</th>\n",
       "      <td>6</td>\n",
       "      <td>46</td>\n",
       "      <td>20.0</td>\n",
       "      <td>Summer</td>\n",
       "      <td>Yes</td>\n",
       "      <td>Venmo</td>\n",
       "      <td>Yes</td>\n",
       "    </tr>\n",
       "    <tr>\n",
       "      <th>3</th>\n",
       "      <td>7</td>\n",
       "      <td>63</td>\n",
       "      <td>85.0</td>\n",
       "      <td>Fall</td>\n",
       "      <td>Yes</td>\n",
       "      <td>Cash</td>\n",
       "      <td>Yes</td>\n",
       "    </tr>\n",
       "    <tr>\n",
       "      <th>4</th>\n",
       "      <td>8</td>\n",
       "      <td>27</td>\n",
       "      <td>34.0</td>\n",
       "      <td>Winter</td>\n",
       "      <td>Yes</td>\n",
       "      <td>Credit Card</td>\n",
       "      <td>Yes</td>\n",
       "    </tr>\n",
       "    <tr>\n",
       "      <th>...</th>\n",
       "      <td>...</td>\n",
       "      <td>...</td>\n",
       "      <td>...</td>\n",
       "      <td>...</td>\n",
       "      <td>...</td>\n",
       "      <td>...</td>\n",
       "      <td>...</td>\n",
       "    </tr>\n",
       "    <tr>\n",
       "      <th>1281</th>\n",
       "      <td>3881</td>\n",
       "      <td>42</td>\n",
       "      <td>20.0</td>\n",
       "      <td>Winter</td>\n",
       "      <td>No</td>\n",
       "      <td>PayPal</td>\n",
       "      <td>No</td>\n",
       "    </tr>\n",
       "    <tr>\n",
       "      <th>1282</th>\n",
       "      <td>3882</td>\n",
       "      <td>56</td>\n",
       "      <td>25.0</td>\n",
       "      <td>Spring</td>\n",
       "      <td>No</td>\n",
       "      <td>Debit Card</td>\n",
       "      <td>No</td>\n",
       "    </tr>\n",
       "    <tr>\n",
       "      <th>1283</th>\n",
       "      <td>3888</td>\n",
       "      <td>40</td>\n",
       "      <td>34.0</td>\n",
       "      <td>Spring</td>\n",
       "      <td>No</td>\n",
       "      <td>Credit Card</td>\n",
       "      <td>No</td>\n",
       "    </tr>\n",
       "    <tr>\n",
       "      <th>1284</th>\n",
       "      <td>3892</td>\n",
       "      <td>36</td>\n",
       "      <td>30.0</td>\n",
       "      <td>Winter</td>\n",
       "      <td>No</td>\n",
       "      <td>Bank Transfer</td>\n",
       "      <td>No</td>\n",
       "    </tr>\n",
       "    <tr>\n",
       "      <th>1285</th>\n",
       "      <td>3895</td>\n",
       "      <td>66</td>\n",
       "      <td>78.0</td>\n",
       "      <td>Spring</td>\n",
       "      <td>No</td>\n",
       "      <td>Credit Card</td>\n",
       "      <td>No</td>\n",
       "    </tr>\n",
       "  </tbody>\n",
       "</table>\n",
       "<p>1281 rows × 7 columns</p>\n",
       "</div>"
      ],
      "text/plain": [
       "      CustomerID  Age  PurchaseAmountUSD  Season PromoCodeUsed  PaymentMethod  \\\n",
       "0              1   55               53.0  Winter           Yes          Venmo   \n",
       "1              2   19               64.0  Winter           Yes           Cash   \n",
       "2              6   46               20.0  Summer           Yes          Venmo   \n",
       "3              7   63               85.0    Fall           Yes           Cash   \n",
       "4              8   27               34.0  Winter           Yes    Credit Card   \n",
       "...          ...  ...                ...     ...           ...            ...   \n",
       "1281        3881   42               20.0  Winter            No         PayPal   \n",
       "1282        3882   56               25.0  Spring            No     Debit Card   \n",
       "1283        3888   40               34.0  Spring            No    Credit Card   \n",
       "1284        3892   36               30.0  Winter            No  Bank Transfer   \n",
       "1285        3895   66               78.0  Spring            No    Credit Card   \n",
       "\n",
       "     DiscountApplied  \n",
       "0                Yes  \n",
       "1                Yes  \n",
       "2                Yes  \n",
       "3                Yes  \n",
       "4                Yes  \n",
       "...              ...  \n",
       "1281              No  \n",
       "1282              No  \n",
       "1283              No  \n",
       "1284              No  \n",
       "1285              No  \n",
       "\n",
       "[1281 rows x 7 columns]"
      ]
     },
     "execution_count": 44,
     "metadata": {},
     "output_type": "execute_result"
    }
   ],
   "source": [
    "df_cleaned =df_1\n",
    "\n",
    "df_cleaned\n"
   ]
  },
  {
   "cell_type": "markdown",
   "metadata": {},
   "source": [
    "# TEIL II - ANALYSE\n",
    "## Deskriptive Statistiken und Visualisierungen  ##\n",
    "\n",
    "\n",
    "In diesem Abschnitt unseres Projekts gehen wir konkret vor:\n",
    "- Eine Deskriptive Statistiken zu den von uns verwendeten Hauptvariablen durchzuführen\n",
    "- Erzeugung des Plots  \n",
    "- Begründung, weswegen wir uns  für eine Statistik bzw. einen Plot entschieden haben und was wir damit zeigen wollen\n",
    "- Interpretierung  des  Ergebnisses im Kontext unserer Hypothesen und Fragestellungen.\n",
    "- Berechnung der Lage-, Streuungsmaße  #z.B. mittlere Konsumausgaben für Sortiment “A” -- ggf. auch\n",
    "für Gruppen von Personen\n",
    "- Führung  einer  Korrelationsanalyse aus, z.B. um zu untersuchen, ob die Korrelation zw. Variable Age und\n",
    "PurchaseAmountUSD  tatsächlich positiv ist\n",
    "- Untersuchung der Fragestellung "
   ]
  },
  {
   "cell_type": "code",
   "execution_count": 45,
   "metadata": {},
   "outputs": [
    {
     "data": {
      "text/html": [
       "<div>\n",
       "<style scoped>\n",
       "    .dataframe tbody tr th:only-of-type {\n",
       "        vertical-align: middle;\n",
       "    }\n",
       "\n",
       "    .dataframe tbody tr th {\n",
       "        vertical-align: top;\n",
       "    }\n",
       "\n",
       "    .dataframe thead th {\n",
       "        text-align: right;\n",
       "    }\n",
       "</style>\n",
       "<table border=\"1\" class=\"dataframe\">\n",
       "  <thead>\n",
       "    <tr style=\"text-align: right;\">\n",
       "      <th></th>\n",
       "      <th>CustomerID</th>\n",
       "      <th>Age</th>\n",
       "      <th>PurchaseAmountUSD</th>\n",
       "      <th>Season</th>\n",
       "      <th>PromoCodeUsed</th>\n",
       "      <th>PaymentMethod</th>\n",
       "      <th>DiscountApplied</th>\n",
       "    </tr>\n",
       "  </thead>\n",
       "  <tbody>\n",
       "    <tr>\n",
       "      <th>0</th>\n",
       "      <td>1</td>\n",
       "      <td>55</td>\n",
       "      <td>53.0</td>\n",
       "      <td>Winter</td>\n",
       "      <td>Yes</td>\n",
       "      <td>Venmo</td>\n",
       "      <td>Yes</td>\n",
       "    </tr>\n",
       "    <tr>\n",
       "      <th>1</th>\n",
       "      <td>2</td>\n",
       "      <td>19</td>\n",
       "      <td>64.0</td>\n",
       "      <td>Winter</td>\n",
       "      <td>Yes</td>\n",
       "      <td>Cash</td>\n",
       "      <td>Yes</td>\n",
       "    </tr>\n",
       "    <tr>\n",
       "      <th>2</th>\n",
       "      <td>6</td>\n",
       "      <td>46</td>\n",
       "      <td>20.0</td>\n",
       "      <td>Summer</td>\n",
       "      <td>Yes</td>\n",
       "      <td>Venmo</td>\n",
       "      <td>Yes</td>\n",
       "    </tr>\n",
       "    <tr>\n",
       "      <th>3</th>\n",
       "      <td>7</td>\n",
       "      <td>63</td>\n",
       "      <td>85.0</td>\n",
       "      <td>Fall</td>\n",
       "      <td>Yes</td>\n",
       "      <td>Cash</td>\n",
       "      <td>Yes</td>\n",
       "    </tr>\n",
       "    <tr>\n",
       "      <th>4</th>\n",
       "      <td>8</td>\n",
       "      <td>27</td>\n",
       "      <td>34.0</td>\n",
       "      <td>Winter</td>\n",
       "      <td>Yes</td>\n",
       "      <td>Credit Card</td>\n",
       "      <td>Yes</td>\n",
       "    </tr>\n",
       "    <tr>\n",
       "      <th>...</th>\n",
       "      <td>...</td>\n",
       "      <td>...</td>\n",
       "      <td>...</td>\n",
       "      <td>...</td>\n",
       "      <td>...</td>\n",
       "      <td>...</td>\n",
       "      <td>...</td>\n",
       "    </tr>\n",
       "    <tr>\n",
       "      <th>1281</th>\n",
       "      <td>3881</td>\n",
       "      <td>42</td>\n",
       "      <td>20.0</td>\n",
       "      <td>Winter</td>\n",
       "      <td>No</td>\n",
       "      <td>PayPal</td>\n",
       "      <td>No</td>\n",
       "    </tr>\n",
       "    <tr>\n",
       "      <th>1282</th>\n",
       "      <td>3882</td>\n",
       "      <td>56</td>\n",
       "      <td>25.0</td>\n",
       "      <td>Spring</td>\n",
       "      <td>No</td>\n",
       "      <td>Debit Card</td>\n",
       "      <td>No</td>\n",
       "    </tr>\n",
       "    <tr>\n",
       "      <th>1283</th>\n",
       "      <td>3888</td>\n",
       "      <td>40</td>\n",
       "      <td>34.0</td>\n",
       "      <td>Spring</td>\n",
       "      <td>No</td>\n",
       "      <td>Credit Card</td>\n",
       "      <td>No</td>\n",
       "    </tr>\n",
       "    <tr>\n",
       "      <th>1284</th>\n",
       "      <td>3892</td>\n",
       "      <td>36</td>\n",
       "      <td>30.0</td>\n",
       "      <td>Winter</td>\n",
       "      <td>No</td>\n",
       "      <td>Bank Transfer</td>\n",
       "      <td>No</td>\n",
       "    </tr>\n",
       "    <tr>\n",
       "      <th>1285</th>\n",
       "      <td>3895</td>\n",
       "      <td>66</td>\n",
       "      <td>78.0</td>\n",
       "      <td>Spring</td>\n",
       "      <td>No</td>\n",
       "      <td>Credit Card</td>\n",
       "      <td>No</td>\n",
       "    </tr>\n",
       "  </tbody>\n",
       "</table>\n",
       "<p>1281 rows × 7 columns</p>\n",
       "</div>"
      ],
      "text/plain": [
       "      CustomerID  Age  PurchaseAmountUSD  Season PromoCodeUsed  PaymentMethod  \\\n",
       "0              1   55               53.0  Winter           Yes          Venmo   \n",
       "1              2   19               64.0  Winter           Yes           Cash   \n",
       "2              6   46               20.0  Summer           Yes          Venmo   \n",
       "3              7   63               85.0    Fall           Yes           Cash   \n",
       "4              8   27               34.0  Winter           Yes    Credit Card   \n",
       "...          ...  ...                ...     ...           ...            ...   \n",
       "1281        3881   42               20.0  Winter            No         PayPal   \n",
       "1282        3882   56               25.0  Spring            No     Debit Card   \n",
       "1283        3888   40               34.0  Spring            No    Credit Card   \n",
       "1284        3892   36               30.0  Winter            No  Bank Transfer   \n",
       "1285        3895   66               78.0  Spring            No    Credit Card   \n",
       "\n",
       "     DiscountApplied  \n",
       "0                Yes  \n",
       "1                Yes  \n",
       "2                Yes  \n",
       "3                Yes  \n",
       "4                Yes  \n",
       "...              ...  \n",
       "1281              No  \n",
       "1282              No  \n",
       "1283              No  \n",
       "1284              No  \n",
       "1285              No  \n",
       "\n",
       "[1281 rows x 7 columns]"
      ]
     },
     "execution_count": 45,
     "metadata": {},
     "output_type": "execute_result"
    }
   ],
   "source": [
    "df_cleaned"
   ]
  },
  {
   "cell_type": "code",
   "execution_count": 46,
   "metadata": {},
   "outputs": [],
   "source": [
    "df_cleaned = df_cleaned.copy()  # Lass uns mit einer Kopie der Daten arbeiten."
   ]
  },
  {
   "cell_type": "markdown",
   "metadata": {},
   "source": [
    "## Lage-und Streuungsmaße\n",
    "\n",
    "\n",
    "In diesem Abschnitt des Projekts sind wir konkret damit beschäftigt, der Lage und der Streuungsmaße zu berechnen.  Anschließend werden wir die Ergebnisse analysieren und interpretieren. \n",
    "\n",
    "Lassen wir uns zunächst mit der Berechnung der Streuungsmaße und dann der Lagemaße für die Variablen Alter und PurchaseAmountUSD beginnen.\n",
    "\n",
    "\n",
    "\n",
    "\n",
    "\n"
   ]
  },
  {
   "cell_type": "code",
   "execution_count": 47,
   "metadata": {},
   "outputs": [
    {
     "data": {
      "text/html": [
       "<div>\n",
       "<style scoped>\n",
       "    .dataframe tbody tr th:only-of-type {\n",
       "        vertical-align: middle;\n",
       "    }\n",
       "\n",
       "    .dataframe tbody tr th {\n",
       "        vertical-align: top;\n",
       "    }\n",
       "\n",
       "    .dataframe thead th {\n",
       "        text-align: right;\n",
       "    }\n",
       "</style>\n",
       "<table border=\"1\" class=\"dataframe\">\n",
       "  <thead>\n",
       "    <tr style=\"text-align: right;\">\n",
       "      <th></th>\n",
       "      <th>CustomerID</th>\n",
       "      <th>Age</th>\n",
       "      <th>PurchaseAmountUSD</th>\n",
       "      <th>Season</th>\n",
       "      <th>PromoCodeUsed</th>\n",
       "      <th>PaymentMethod</th>\n",
       "      <th>DiscountApplied</th>\n",
       "    </tr>\n",
       "  </thead>\n",
       "  <tbody>\n",
       "    <tr>\n",
       "      <th>count</th>\n",
       "      <td>1281.0</td>\n",
       "      <td>1281.00</td>\n",
       "      <td>1281.00</td>\n",
       "      <td>1281</td>\n",
       "      <td>1281</td>\n",
       "      <td>1281</td>\n",
       "      <td>1281</td>\n",
       "    </tr>\n",
       "    <tr>\n",
       "      <th>unique</th>\n",
       "      <td>&lt;NA&gt;</td>\n",
       "      <td>NaN</td>\n",
       "      <td>NaN</td>\n",
       "      <td>4</td>\n",
       "      <td>2</td>\n",
       "      <td>6</td>\n",
       "      <td>2</td>\n",
       "    </tr>\n",
       "    <tr>\n",
       "      <th>top</th>\n",
       "      <td>&lt;NA&gt;</td>\n",
       "      <td>NaN</td>\n",
       "      <td>NaN</td>\n",
       "      <td>Spring</td>\n",
       "      <td>No</td>\n",
       "      <td>Cash</td>\n",
       "      <td>No</td>\n",
       "    </tr>\n",
       "    <tr>\n",
       "      <th>freq</th>\n",
       "      <td>&lt;NA&gt;</td>\n",
       "      <td>NaN</td>\n",
       "      <td>NaN</td>\n",
       "      <td>342</td>\n",
       "      <td>732</td>\n",
       "      <td>231</td>\n",
       "      <td>732</td>\n",
       "    </tr>\n",
       "    <tr>\n",
       "      <th>mean</th>\n",
       "      <td>1938.95</td>\n",
       "      <td>44.54</td>\n",
       "      <td>63.99</td>\n",
       "      <td>NaN</td>\n",
       "      <td>NaN</td>\n",
       "      <td>NaN</td>\n",
       "      <td>NaN</td>\n",
       "    </tr>\n",
       "    <tr>\n",
       "      <th>std</th>\n",
       "      <td>1114.19</td>\n",
       "      <td>14.94</td>\n",
       "      <td>61.49</td>\n",
       "      <td>NaN</td>\n",
       "      <td>NaN</td>\n",
       "      <td>NaN</td>\n",
       "      <td>NaN</td>\n",
       "    </tr>\n",
       "    <tr>\n",
       "      <th>min</th>\n",
       "      <td>1.0</td>\n",
       "      <td>18.00</td>\n",
       "      <td>20.00</td>\n",
       "      <td>NaN</td>\n",
       "      <td>NaN</td>\n",
       "      <td>NaN</td>\n",
       "      <td>NaN</td>\n",
       "    </tr>\n",
       "    <tr>\n",
       "      <th>25%</th>\n",
       "      <td>1005.0</td>\n",
       "      <td>32.00</td>\n",
       "      <td>38.00</td>\n",
       "      <td>NaN</td>\n",
       "      <td>NaN</td>\n",
       "      <td>NaN</td>\n",
       "      <td>NaN</td>\n",
       "    </tr>\n",
       "    <tr>\n",
       "      <th>50%</th>\n",
       "      <td>1912.0</td>\n",
       "      <td>45.00</td>\n",
       "      <td>60.00</td>\n",
       "      <td>NaN</td>\n",
       "      <td>NaN</td>\n",
       "      <td>NaN</td>\n",
       "      <td>NaN</td>\n",
       "    </tr>\n",
       "    <tr>\n",
       "      <th>75%</th>\n",
       "      <td>2880.0</td>\n",
       "      <td>57.00</td>\n",
       "      <td>80.00</td>\n",
       "      <td>NaN</td>\n",
       "      <td>NaN</td>\n",
       "      <td>NaN</td>\n",
       "      <td>NaN</td>\n",
       "    </tr>\n",
       "    <tr>\n",
       "      <th>max</th>\n",
       "      <td>3895.0</td>\n",
       "      <td>70.00</td>\n",
       "      <td>993.00</td>\n",
       "      <td>NaN</td>\n",
       "      <td>NaN</td>\n",
       "      <td>NaN</td>\n",
       "      <td>NaN</td>\n",
       "    </tr>\n",
       "  </tbody>\n",
       "</table>\n",
       "</div>"
      ],
      "text/plain": [
       "        CustomerID      Age  PurchaseAmountUSD  Season PromoCodeUsed  \\\n",
       "count       1281.0  1281.00            1281.00    1281          1281   \n",
       "unique        <NA>      NaN                NaN       4             2   \n",
       "top           <NA>      NaN                NaN  Spring            No   \n",
       "freq          <NA>      NaN                NaN     342           732   \n",
       "mean       1938.95    44.54              63.99     NaN           NaN   \n",
       "std        1114.19    14.94              61.49     NaN           NaN   \n",
       "min            1.0    18.00              20.00     NaN           NaN   \n",
       "25%         1005.0    32.00              38.00     NaN           NaN   \n",
       "50%         1912.0    45.00              60.00     NaN           NaN   \n",
       "75%         2880.0    57.00              80.00     NaN           NaN   \n",
       "max         3895.0    70.00             993.00     NaN           NaN   \n",
       "\n",
       "       PaymentMethod DiscountApplied  \n",
       "count           1281            1281  \n",
       "unique             6               2  \n",
       "top             Cash              No  \n",
       "freq             231             732  \n",
       "mean             NaN             NaN  \n",
       "std              NaN             NaN  \n",
       "min              NaN             NaN  \n",
       "25%              NaN             NaN  \n",
       "50%              NaN             NaN  \n",
       "75%              NaN             NaN  \n",
       "max              NaN             NaN  "
      ]
     },
     "execution_count": 47,
     "metadata": {},
     "output_type": "execute_result"
    }
   ],
   "source": [
    "# Berechnen deskriptiver Statistiken für _alle_ Variablen\n",
    "df_cleaned.describe(include=\"all\").round(2)"
   ]
  },
  {
   "cell_type": "markdown",
   "metadata": {},
   "source": [
    "- Jetzt Berechnen wir  die Lagemaß für das Alter"
   ]
  },
  {
   "cell_type": "code",
   "execution_count": 48,
   "metadata": {},
   "outputs": [
    {
     "name": "stdout",
     "output_type": "stream",
     "text": [
      "Es stehen a=1281 valide Beobachtungen für das Alter zur Verfügung.\n",
      "Der Mittelwert des Alters beträgt: 44.54 \n",
      "Der Medianwert des Alters beträgt: 45.00\n",
      "Die Standardabweichung des Alters beträgt: 14.94\n"
     ]
    }
   ],
   "source": [
    "Age_mittelwert = df_cleaned[\"Age\"].mean()\n",
    "Age_median = df_cleaned[\"Age\"].median()\n",
    "Age_stabw = df_cleaned[\"Age\"].std()\n",
    "a_Age = df_cleaned[\"Age\"].count()\n",
    "\n",
    "print(\n",
    "    f\"Es stehen a={a_Age} valide Beobachtungen für das Alter zur Verfügung.\")\n",
    "print(\n",
    "    f\"Der Mittelwert des Alters beträgt: {Age_mittelwert:.2f} \")\n",
    "print(f\"Der Medianwert des Alters beträgt: {Age_median:.2f}\")\n",
    "print(\n",
    "    f\"Die Standardabweichung des Alters beträgt: {Age_stabw:.2f}\")"
   ]
  },
  {
   "cell_type": "markdown",
   "metadata": {},
   "source": [
    "- Der Mittelwert des Alters beträgt: 44.54 jahre alt  und Lagemaß (Der Medianwert) des Alters beträgt: 45.00 jahre alt"
   ]
  },
  {
   "cell_type": "markdown",
   "metadata": {},
   "source": [
    "- Berechnung der Lagemaß für PurchaseAmountUSD"
   ]
  },
  {
   "cell_type": "code",
   "execution_count": 49,
   "metadata": {},
   "outputs": [
    {
     "name": "stdout",
     "output_type": "stream",
     "text": [
      "Es stehen p=1281 valide Beobachtungen für das PurchaseAmountUSD\t zur Verfügung.\n",
      "Der Mittelwert des PurchaseAmountUSD\t beträgt: 63.99 \n",
      "Der Medianwert des PurchaseAmountUSD\t beträgt: 60.00\n",
      "Die Standardabweichung des PurchaseAmountUSD\tbeträgt: 61.49\n"
     ]
    }
   ],
   "source": [
    "PurchaseAmountUSD_mittelwert = df_cleaned[\"PurchaseAmountUSD\"].mean()\n",
    "PurchaseAmountUSD_median = df_cleaned[\"PurchaseAmountUSD\"].median()\n",
    "PurchaseAmountUSD_stabw = df_cleaned[\"PurchaseAmountUSD\"].std()\n",
    "p_PurchaseAmountUSD\t = df_cleaned[\"PurchaseAmountUSD\"].count()\n",
    "\n",
    "print(\n",
    "    f\"Es stehen p={p_PurchaseAmountUSD} valide Beobachtungen für das PurchaseAmountUSD\t zur Verfügung.\")\n",
    "print(\n",
    "    f\"Der Mittelwert des PurchaseAmountUSD\t beträgt: {PurchaseAmountUSD_mittelwert:.2f} \")\n",
    "print(f\"Der Medianwert des PurchaseAmountUSD\t beträgt: {PurchaseAmountUSD_median:.2f}\")\n",
    "print(\n",
    "    f\"Die Standardabweichung des PurchaseAmountUSD\tbeträgt: {PurchaseAmountUSD_stabw:.2f}\")"
   ]
  },
  {
   "cell_type": "markdown",
   "metadata": {},
   "source": [
    "Der Mittelwert des PurchaseAmountUSD\t beträgt: 63.99 USD, und die Lagemaß (Der Medianwert) des PurchaseAmountUSD\t beträgt: 60.00 USD"
   ]
  },
  {
   "cell_type": "markdown",
   "metadata": {},
   "source": [
    "\n",
    " ### INTERPRETATION Lage-Streuungsmaß\n",
    "\n",
    "\n",
    "\n",
    "- *Age.*\n",
    "\n",
    "Es stehen uns 1281 Datensätze zum Alter zur Verfügung. Die deskriptive Analyse zeigt, dass das durchschnittliche Alter dieser Kunden 44,54 Jahre beträgt. **[Das Lagemaß (Median) des Alters beträgt 45,00 Jahre]**. Während das mittlere Alter der Kunden 44,54 Jahre beträgt, variiert das Alter stark: Das Minimum beträgt 18 Jahre und das Maximum beträgt 70 Jahre\n",
    "\n",
    "Unsere Daten für das Alter sind darüber hinaus in drei Quantile geteilt , bzw 25% (1/4) , 50% (2/4) , 75% (3/4) \n",
    "Dies bedeutet  , dass für 25% der Daten sind die Custumer 32 Jahre alt oder weniger, für 50% sind die Customer  45 Jahre alt oder weniger  und für 75% sind die Customer 57 Jahre alt oder weniger.\n",
    "\n",
    "-----------------------------------------------------------------------------------------------------------------------------------\n",
    "\n",
    "- *PurchaseAmountUSD.*\n",
    "\n",
    "Es stehen uns auch 1281 Datensätze zum PurchaseAmountUSD zur Verfügung. Die statistische Analyse zeigt, dass die durchschnittlichen Ausgaben der Kunden in diesem Geschäft bei 63,99 USD liegen, was praktisch 64 Dollar entspricht. **[Das Lagemaß (Median) des PurchaseAmountUSD beträgt 60,00 USD]**. Während die mittleren Ausgaben auf 63,99 USD geschätzt werden, variieren die Ausgaben stark: Das Minimum beträgt 20 USD und das Maximum beträgt 993 USD.\n",
    "\n",
    "Unsere Daten zum PurchaseAmountUSD sind ebenfalls in drei Quantile unterteilt. Dies bedeutet, dass für 25% der Daten die Kunden 38 Dollar oder weniger für ihre Gesamteinkäufe ausgeben, während für 50% und 75% jeweils 60 und 80 USD oder weniger ausgegeben werden.\n",
    "\n",
    "Die anderen Variablen wurden nicht berücksichtigt, da sie keine numerischen Werte enthalten.\n",
    "\n"
   ]
  },
  {
   "cell_type": "markdown",
   "metadata": {},
   "source": [
    "**In diesem Teil des Projekts geht es darum, Daten grafisch darzustellen, um die Ergebnisse besser lesen und interpretieren zu können. Zunächst werden wir jedoch unsere Ausgangshypothesen wiederholen und versuchen, diese anhand der verfügbaren Visualisierungen zu beantworten.**"
   ]
  },
  {
   "cell_type": "markdown",
   "metadata": {},
   "source": [
    "Hypothese 1: Ältere Menschen würden mehr oder weniger als junge Menschen ausgeben.\n",
    "\n",
    "Hypothese 2: Kunden, die Promo-Codes verwenden oder Rabatte erhalten, haben einen höheren Gesamtkaufbetrag.\n",
    "\n",
    "Hypothese 3: Der durchschnittliche Kaufbetrag ist im Sommer niedriger als in anderen Seasons.\n",
    "\n",
    "Hypothese 4: Kunden, die Online-Zahlungsmethoden (z.B. Paypal, Banktransfer) verwenden, geben im Durchschnitt mehr pro Transaktion aus als Kunden, die Bargeld oder kontaktlose Zahlungen verwenden."
   ]
  },
  {
   "cell_type": "code",
   "execution_count": 50,
   "metadata": {},
   "outputs": [
    {
     "data": {
      "text/html": [
       "<div>\n",
       "<style scoped>\n",
       "    .dataframe tbody tr th:only-of-type {\n",
       "        vertical-align: middle;\n",
       "    }\n",
       "\n",
       "    .dataframe tbody tr th {\n",
       "        vertical-align: top;\n",
       "    }\n",
       "\n",
       "    .dataframe thead th {\n",
       "        text-align: right;\n",
       "    }\n",
       "</style>\n",
       "<table border=\"1\" class=\"dataframe\">\n",
       "  <thead>\n",
       "    <tr style=\"text-align: right;\">\n",
       "      <th></th>\n",
       "      <th>count</th>\n",
       "      <th>mean</th>\n",
       "      <th>median</th>\n",
       "      <th>std</th>\n",
       "    </tr>\n",
       "    <tr>\n",
       "      <th>Age_group</th>\n",
       "      <th></th>\n",
       "      <th></th>\n",
       "      <th></th>\n",
       "      <th></th>\n",
       "    </tr>\n",
       "  </thead>\n",
       "  <tbody>\n",
       "    <tr>\n",
       "      <th>18-30</th>\n",
       "      <td>269</td>\n",
       "      <td>68.962726</td>\n",
       "      <td>62.0</td>\n",
       "      <td>93.059039</td>\n",
       "    </tr>\n",
       "    <tr>\n",
       "      <th>31-40</th>\n",
       "      <td>231</td>\n",
       "      <td>61.138413</td>\n",
       "      <td>62.0</td>\n",
       "      <td>32.020334</td>\n",
       "    </tr>\n",
       "    <tr>\n",
       "      <th>41-50</th>\n",
       "      <td>251</td>\n",
       "      <td>62.282815</td>\n",
       "      <td>55.0</td>\n",
       "      <td>69.079168</td>\n",
       "    </tr>\n",
       "    <tr>\n",
       "      <th>51-70</th>\n",
       "      <td>505</td>\n",
       "      <td>63.738614</td>\n",
       "      <td>62.0</td>\n",
       "      <td>46.021249</td>\n",
       "    </tr>\n",
       "    <tr>\n",
       "      <th>NaN</th>\n",
       "      <td>25</td>\n",
       "      <td>58.880000</td>\n",
       "      <td>60.0</td>\n",
       "      <td>22.686854</td>\n",
       "    </tr>\n",
       "  </tbody>\n",
       "</table>\n",
       "</div>"
      ],
      "text/plain": [
       "           count       mean  median        std\n",
       "Age_group                                     \n",
       "18-30        269  68.962726    62.0  93.059039\n",
       "31-40        231  61.138413    62.0  32.020334\n",
       "41-50        251  62.282815    55.0  69.079168\n",
       "51-70        505  63.738614    62.0  46.021249\n",
       "NaN           25  58.880000    60.0  22.686854"
      ]
     },
     "execution_count": 50,
     "metadata": {},
     "output_type": "execute_result"
    }
   ],
   "source": [
    "# Hypothese 1\n",
    "\n",
    "\"\"\"df['age_group'] = pd.cut(df['age'], bins=bins, labels=labels, right=False) erstellt eine neue Spalte \"age_group\" im DataFrame, indem die Altersgruppen in vier definierte Intervalle unterteilt werden,\n",
    " und die entsprechenden Beschriftungen verwendet werden. \n",
    "Dann wird die groupby-Methode verwendet, um die Daten basierend auf den Altersintervallen zu gruppieren, \n",
    "und Statistiken wie Anzahl der Beobachtungen, Mittelwert, Median und Standardabweichung der Spalte \"amount_spent\" werden für jede Gruppe berechnet. \"\"\"\n",
    "\n",
    "# Erstellen von Altersintervallen\n",
    "bins = [18, 30, 40, 50, 70]\n",
    "labels = ['18-30', '31-40', '41-50', '51-70']\n",
    "\n",
    "# Hinzufügen einer Spalte \"Age_group\" zum DataFrame basierend auf den Altersintervallen\n",
    "df_cleaned['Age_group'] = pd.cut(df_cleaned['Age'], bins=bins, labels=labels, right=False)\n",
    "\n",
    "# Durchführen der Gruppenanalyse\n",
    "df_cleaned.groupby(\"Age_group\", observed=True, dropna=False)[\n",
    "    \"PurchaseAmountUSD\"].agg([\"count\", \"mean\", \"median\", \"std\"])\n",
    "\n"
   ]
  },
  {
   "cell_type": "code",
   "execution_count": 51,
   "metadata": {},
   "outputs": [
    {
     "data": {
      "text/html": [
       "<div>\n",
       "<style scoped>\n",
       "    .dataframe tbody tr th:only-of-type {\n",
       "        vertical-align: middle;\n",
       "    }\n",
       "\n",
       "    .dataframe tbody tr th {\n",
       "        vertical-align: top;\n",
       "    }\n",
       "\n",
       "    .dataframe thead th {\n",
       "        text-align: right;\n",
       "    }\n",
       "</style>\n",
       "<table border=\"1\" class=\"dataframe\">\n",
       "  <thead>\n",
       "    <tr style=\"text-align: right;\">\n",
       "      <th></th>\n",
       "      <th>CustomerID</th>\n",
       "      <th>Age</th>\n",
       "      <th>PurchaseAmountUSD</th>\n",
       "      <th>Season</th>\n",
       "      <th>PromoCodeUsed</th>\n",
       "      <th>PaymentMethod</th>\n",
       "      <th>DiscountApplied</th>\n",
       "      <th>Age_group</th>\n",
       "    </tr>\n",
       "  </thead>\n",
       "  <tbody>\n",
       "    <tr>\n",
       "      <th>0</th>\n",
       "      <td>1</td>\n",
       "      <td>55</td>\n",
       "      <td>53.0</td>\n",
       "      <td>Winter</td>\n",
       "      <td>Yes</td>\n",
       "      <td>Venmo</td>\n",
       "      <td>Yes</td>\n",
       "      <td>51-70</td>\n",
       "    </tr>\n",
       "    <tr>\n",
       "      <th>1</th>\n",
       "      <td>2</td>\n",
       "      <td>19</td>\n",
       "      <td>64.0</td>\n",
       "      <td>Winter</td>\n",
       "      <td>Yes</td>\n",
       "      <td>Cash</td>\n",
       "      <td>Yes</td>\n",
       "      <td>18-30</td>\n",
       "    </tr>\n",
       "    <tr>\n",
       "      <th>2</th>\n",
       "      <td>6</td>\n",
       "      <td>46</td>\n",
       "      <td>20.0</td>\n",
       "      <td>Summer</td>\n",
       "      <td>Yes</td>\n",
       "      <td>Venmo</td>\n",
       "      <td>Yes</td>\n",
       "      <td>41-50</td>\n",
       "    </tr>\n",
       "    <tr>\n",
       "      <th>3</th>\n",
       "      <td>7</td>\n",
       "      <td>63</td>\n",
       "      <td>85.0</td>\n",
       "      <td>Fall</td>\n",
       "      <td>Yes</td>\n",
       "      <td>Cash</td>\n",
       "      <td>Yes</td>\n",
       "      <td>51-70</td>\n",
       "    </tr>\n",
       "    <tr>\n",
       "      <th>4</th>\n",
       "      <td>8</td>\n",
       "      <td>27</td>\n",
       "      <td>34.0</td>\n",
       "      <td>Winter</td>\n",
       "      <td>Yes</td>\n",
       "      <td>Credit Card</td>\n",
       "      <td>Yes</td>\n",
       "      <td>18-30</td>\n",
       "    </tr>\n",
       "    <tr>\n",
       "      <th>...</th>\n",
       "      <td>...</td>\n",
       "      <td>...</td>\n",
       "      <td>...</td>\n",
       "      <td>...</td>\n",
       "      <td>...</td>\n",
       "      <td>...</td>\n",
       "      <td>...</td>\n",
       "      <td>...</td>\n",
       "    </tr>\n",
       "    <tr>\n",
       "      <th>1281</th>\n",
       "      <td>3881</td>\n",
       "      <td>42</td>\n",
       "      <td>20.0</td>\n",
       "      <td>Winter</td>\n",
       "      <td>No</td>\n",
       "      <td>PayPal</td>\n",
       "      <td>No</td>\n",
       "      <td>41-50</td>\n",
       "    </tr>\n",
       "    <tr>\n",
       "      <th>1282</th>\n",
       "      <td>3882</td>\n",
       "      <td>56</td>\n",
       "      <td>25.0</td>\n",
       "      <td>Spring</td>\n",
       "      <td>No</td>\n",
       "      <td>Debit Card</td>\n",
       "      <td>No</td>\n",
       "      <td>51-70</td>\n",
       "    </tr>\n",
       "    <tr>\n",
       "      <th>1283</th>\n",
       "      <td>3888</td>\n",
       "      <td>40</td>\n",
       "      <td>34.0</td>\n",
       "      <td>Spring</td>\n",
       "      <td>No</td>\n",
       "      <td>Credit Card</td>\n",
       "      <td>No</td>\n",
       "      <td>41-50</td>\n",
       "    </tr>\n",
       "    <tr>\n",
       "      <th>1284</th>\n",
       "      <td>3892</td>\n",
       "      <td>36</td>\n",
       "      <td>30.0</td>\n",
       "      <td>Winter</td>\n",
       "      <td>No</td>\n",
       "      <td>Bank Transfer</td>\n",
       "      <td>No</td>\n",
       "      <td>31-40</td>\n",
       "    </tr>\n",
       "    <tr>\n",
       "      <th>1285</th>\n",
       "      <td>3895</td>\n",
       "      <td>66</td>\n",
       "      <td>78.0</td>\n",
       "      <td>Spring</td>\n",
       "      <td>No</td>\n",
       "      <td>Credit Card</td>\n",
       "      <td>No</td>\n",
       "      <td>51-70</td>\n",
       "    </tr>\n",
       "  </tbody>\n",
       "</table>\n",
       "<p>1281 rows × 8 columns</p>\n",
       "</div>"
      ],
      "text/plain": [
       "      CustomerID  Age  PurchaseAmountUSD  Season PromoCodeUsed  PaymentMethod  \\\n",
       "0              1   55               53.0  Winter           Yes          Venmo   \n",
       "1              2   19               64.0  Winter           Yes           Cash   \n",
       "2              6   46               20.0  Summer           Yes          Venmo   \n",
       "3              7   63               85.0    Fall           Yes           Cash   \n",
       "4              8   27               34.0  Winter           Yes    Credit Card   \n",
       "...          ...  ...                ...     ...           ...            ...   \n",
       "1281        3881   42               20.0  Winter            No         PayPal   \n",
       "1282        3882   56               25.0  Spring            No     Debit Card   \n",
       "1283        3888   40               34.0  Spring            No    Credit Card   \n",
       "1284        3892   36               30.0  Winter            No  Bank Transfer   \n",
       "1285        3895   66               78.0  Spring            No    Credit Card   \n",
       "\n",
       "     DiscountApplied Age_group  \n",
       "0                Yes     51-70  \n",
       "1                Yes     18-30  \n",
       "2                Yes     41-50  \n",
       "3                Yes     51-70  \n",
       "4                Yes     18-30  \n",
       "...              ...       ...  \n",
       "1281              No     41-50  \n",
       "1282              No     51-70  \n",
       "1283              No     41-50  \n",
       "1284              No     31-40  \n",
       "1285              No     51-70  \n",
       "\n",
       "[1281 rows x 8 columns]"
      ]
     },
     "execution_count": 51,
     "metadata": {},
     "output_type": "execute_result"
    }
   ],
   "source": [
    "df_cleaned"
   ]
  },
  {
   "cell_type": "markdown",
   "metadata": {},
   "source": [
    "Betrachten wir, dass das Intervall 18-30 die jungen Menschen repräsentiert und das Intervall 51-70 die älteren Menschen repräsentiert. Wir wissen bereits, dass es in der Altersgruppe 18-30, 269 Kunden gibt und in der Altersgruppe 51-70 ,505 Kunden.\n",
    "\n",
    "**Um Ergebnisse zu erhalten, die unseren Erwartungen entsprechen, und um unsere Ergebnisse besser interpretieren zu können, werden wir im weiteren Verlauf unserer Analyse jeweils 250 Kunden für jede Alterskategorie auswählen und dann das Ausgabeverhalten untersuchen**\n"
   ]
  },
  {
   "cell_type": "code",
   "execution_count": 52,
   "metadata": {},
   "outputs": [
    {
     "data": {
      "text/html": [
       "<div>\n",
       "<style scoped>\n",
       "    .dataframe tbody tr th:only-of-type {\n",
       "        vertical-align: middle;\n",
       "    }\n",
       "\n",
       "    .dataframe tbody tr th {\n",
       "        vertical-align: top;\n",
       "    }\n",
       "\n",
       "    .dataframe thead th {\n",
       "        text-align: right;\n",
       "    }\n",
       "</style>\n",
       "<table border=\"1\" class=\"dataframe\">\n",
       "  <thead>\n",
       "    <tr style=\"text-align: right;\">\n",
       "      <th></th>\n",
       "      <th>count</th>\n",
       "      <th>mean</th>\n",
       "      <th>median</th>\n",
       "      <th>std</th>\n",
       "    </tr>\n",
       "    <tr>\n",
       "      <th>PromoCodeUsed</th>\n",
       "      <th></th>\n",
       "      <th></th>\n",
       "      <th></th>\n",
       "      <th></th>\n",
       "    </tr>\n",
       "  </thead>\n",
       "  <tbody>\n",
       "    <tr>\n",
       "      <th>No</th>\n",
       "      <td>732</td>\n",
       "      <td>64.266357</td>\n",
       "      <td>58.0</td>\n",
       "      <td>66.989505</td>\n",
       "    </tr>\n",
       "    <tr>\n",
       "      <th>Yes</th>\n",
       "      <td>549</td>\n",
       "      <td>63.613771</td>\n",
       "      <td>62.0</td>\n",
       "      <td>53.335156</td>\n",
       "    </tr>\n",
       "  </tbody>\n",
       "</table>\n",
       "</div>"
      ],
      "text/plain": [
       "               count       mean  median        std\n",
       "PromoCodeUsed                                     \n",
       "No               732  64.266357    58.0  66.989505\n",
       "Yes              549  63.613771    62.0  53.335156"
      ]
     },
     "execution_count": 52,
     "metadata": {},
     "output_type": "execute_result"
    }
   ],
   "source": [
    "# Hypothese 2 \n",
    "\n",
    "# Wir können auch zusätzliche Statistiken berechnen.\n",
    "df_cleaned.groupby(\"PromoCodeUsed\", observed=True, dropna=False)[\n",
    "    \"PurchaseAmountUSD\"].agg([\"count\", \"mean\", \"median\", \"std\"])"
   ]
  },
  {
   "cell_type": "markdown",
   "metadata": {},
   "source": [
    "Wir stellen fest, dass 732 Personen keinen Promo-Code verwenden, während 549 Personen dies tun. Der durchschnittliche Kaufbetrag der 732 Personen, die keinen Promo-Code verwenden, beträgt 64,2663576 USD, während der durchschnittliche Kaufbetrag der 549 Personen, die den Code verwenden, 63,613771 USD beträgt.\n",
    "\n",
    "**Um auch hier Ergebnisse zu erhalten, die unseren Erwartungen entsprechen, werden wir nur 500 Kunden für jede Boolean-Kategorie auswählen. Dadurch können wir genau feststellen, ob die Verwendung von Promo-Codes einen Einfluss auf die Kaufentscheidung der Kunden hat und inwieweit sich dies positiv auf den Umsatz des Unternehmens auswirken könnte**.\n",
    "\n",
    "Hinweis: Die Booleans hier repräsentieren das **JA** und das **NEIN**."
   ]
  },
  {
   "cell_type": "code",
   "execution_count": 53,
   "metadata": {},
   "outputs": [
    {
     "data": {
      "text/html": [
       "<div>\n",
       "<style scoped>\n",
       "    .dataframe tbody tr th:only-of-type {\n",
       "        vertical-align: middle;\n",
       "    }\n",
       "\n",
       "    .dataframe tbody tr th {\n",
       "        vertical-align: top;\n",
       "    }\n",
       "\n",
       "    .dataframe thead th {\n",
       "        text-align: right;\n",
       "    }\n",
       "</style>\n",
       "<table border=\"1\" class=\"dataframe\">\n",
       "  <thead>\n",
       "    <tr style=\"text-align: right;\">\n",
       "      <th></th>\n",
       "      <th>count</th>\n",
       "      <th>mean</th>\n",
       "      <th>median</th>\n",
       "      <th>std</th>\n",
       "    </tr>\n",
       "    <tr>\n",
       "      <th>DiscountApplied</th>\n",
       "      <th></th>\n",
       "      <th></th>\n",
       "      <th></th>\n",
       "      <th></th>\n",
       "    </tr>\n",
       "  </thead>\n",
       "  <tbody>\n",
       "    <tr>\n",
       "      <th>No</th>\n",
       "      <td>732</td>\n",
       "      <td>64.266357</td>\n",
       "      <td>58.0</td>\n",
       "      <td>66.989505</td>\n",
       "    </tr>\n",
       "    <tr>\n",
       "      <th>Yes</th>\n",
       "      <td>549</td>\n",
       "      <td>63.613771</td>\n",
       "      <td>62.0</td>\n",
       "      <td>53.335156</td>\n",
       "    </tr>\n",
       "  </tbody>\n",
       "</table>\n",
       "</div>"
      ],
      "text/plain": [
       "                 count       mean  median        std\n",
       "DiscountApplied                                     \n",
       "No                 732  64.266357    58.0  66.989505\n",
       "Yes                549  63.613771    62.0  53.335156"
      ]
     },
     "execution_count": 53,
     "metadata": {},
     "output_type": "execute_result"
    }
   ],
   "source": [
    "\n",
    "df_cleaned.groupby(\"DiscountApplied\", observed=True, dropna=False)[\n",
    "\"PurchaseAmountUSD\"].agg([\"count\", \"mean\", \"median\", \"std\"])"
   ]
  },
  {
   "cell_type": "code",
   "execution_count": 54,
   "metadata": {},
   "outputs": [
    {
     "data": {
      "text/html": [
       "<div>\n",
       "<style scoped>\n",
       "    .dataframe tbody tr th:only-of-type {\n",
       "        vertical-align: middle;\n",
       "    }\n",
       "\n",
       "    .dataframe tbody tr th {\n",
       "        vertical-align: top;\n",
       "    }\n",
       "\n",
       "    .dataframe thead th {\n",
       "        text-align: right;\n",
       "    }\n",
       "</style>\n",
       "<table border=\"1\" class=\"dataframe\">\n",
       "  <thead>\n",
       "    <tr style=\"text-align: right;\">\n",
       "      <th></th>\n",
       "      <th>count</th>\n",
       "      <th>mean</th>\n",
       "      <th>median</th>\n",
       "      <th>std</th>\n",
       "    </tr>\n",
       "    <tr>\n",
       "      <th>Season</th>\n",
       "      <th></th>\n",
       "      <th></th>\n",
       "      <th></th>\n",
       "      <th></th>\n",
       "    </tr>\n",
       "  </thead>\n",
       "  <tbody>\n",
       "    <tr>\n",
       "      <th>Fall</th>\n",
       "      <td>296</td>\n",
       "      <td>70.618243</td>\n",
       "      <td>64.5</td>\n",
       "      <td>81.267415</td>\n",
       "    </tr>\n",
       "    <tr>\n",
       "      <th>Spring</th>\n",
       "      <td>342</td>\n",
       "      <td>63.309903</td>\n",
       "      <td>58.0</td>\n",
       "      <td>71.066965</td>\n",
       "    </tr>\n",
       "    <tr>\n",
       "      <th>Summer</th>\n",
       "      <td>317</td>\n",
       "      <td>61.649758</td>\n",
       "      <td>57.0</td>\n",
       "      <td>54.833580</td>\n",
       "    </tr>\n",
       "    <tr>\n",
       "      <th>Winter</th>\n",
       "      <td>326</td>\n",
       "      <td>60.947771</td>\n",
       "      <td>63.0</td>\n",
       "      <td>24.860593</td>\n",
       "    </tr>\n",
       "  </tbody>\n",
       "</table>\n",
       "</div>"
      ],
      "text/plain": [
       "        count       mean  median        std\n",
       "Season                                     \n",
       "Fall      296  70.618243    64.5  81.267415\n",
       "Spring    342  63.309903    58.0  71.066965\n",
       "Summer    317  61.649758    57.0  54.833580\n",
       "Winter    326  60.947771    63.0  24.860593"
      ]
     },
     "execution_count": 54,
     "metadata": {},
     "output_type": "execute_result"
    }
   ],
   "source": [
    "# Hypothese 3\n",
    "# Aggregation von Daten nach Jahreszeiten und Berechnung deskriptiver Statistiken\n",
    " \n",
    "df_cleaned.groupby(\"Season\", observed=True, dropna=False)[\"PurchaseAmountUSD\"].agg([\"count\", \"mean\", \"median\", \"std\"])\n",
    "\n",
    "# Anzeigen von Ergebnissen\n"
   ]
  },
  {
   "cell_type": "markdown",
   "metadata": {},
   "source": [
    "Von den verbleibenden 1281 Personen stellen wir fest, dass:\n",
    "\n",
    "- 296 im Herbst einkaufen,\n",
    "- 342 im Frühling einkaufen,\n",
    "- 317 im Sommer einkaufen und\n",
    "- 326 im Winter einkaufen.\n",
    "\n",
    "Der durchschnittliche Einkauf im Sommer ist tatsächlich niedriger als in allen anderen Jahreszeiten außer im Winter.\n",
    "\n",
    "Aber was unsere Aufmerksamkeit auf sich zieht, ist der durchschnittliche Einkauf im Herbst. Trotz einer viel geringeren Anzahl von Käufern im Vergleich zu anderen Käufergruppen erreicht der durchschnittliche Einkaufswert den höchsten Wert von 70,62 USD mit 296 Käufern. Im Vergleich dazu liegen die Durchschnittseinkäufe im Frühling bei 63,31 USD mit 342 Käufern, im Sommer bei 61,65 USD mit 317 Käufern und im Winter bei 60,95 USD mit 326 Käufern.\n",
    "\n",
    "Basierend auf der Analyse wären die Umsätze im Herbst rentabler als in anderen Jahreszeiten. Daher sollten die Vertriebsstrategien stärker auf Herbstprodukte ausgerichtet sein.\n",
    "\n"
   ]
  },
  {
   "cell_type": "code",
   "execution_count": 55,
   "metadata": {},
   "outputs": [
    {
     "data": {
      "text/html": [
       "<div>\n",
       "<style scoped>\n",
       "    .dataframe tbody tr th:only-of-type {\n",
       "        vertical-align: middle;\n",
       "    }\n",
       "\n",
       "    .dataframe tbody tr th {\n",
       "        vertical-align: top;\n",
       "    }\n",
       "\n",
       "    .dataframe thead th {\n",
       "        text-align: right;\n",
       "    }\n",
       "</style>\n",
       "<table border=\"1\" class=\"dataframe\">\n",
       "  <thead>\n",
       "    <tr style=\"text-align: right;\">\n",
       "      <th></th>\n",
       "      <th>count</th>\n",
       "      <th>mean</th>\n",
       "      <th>median</th>\n",
       "      <th>std</th>\n",
       "    </tr>\n",
       "    <tr>\n",
       "      <th>PaymentMethod</th>\n",
       "      <th></th>\n",
       "      <th></th>\n",
       "      <th></th>\n",
       "      <th></th>\n",
       "    </tr>\n",
       "  </thead>\n",
       "  <tbody>\n",
       "    <tr>\n",
       "      <th>Bank Transfer</th>\n",
       "      <td>199</td>\n",
       "      <td>69.512496</td>\n",
       "      <td>59.0</td>\n",
       "      <td>87.459886</td>\n",
       "    </tr>\n",
       "    <tr>\n",
       "      <th>Cash</th>\n",
       "      <td>231</td>\n",
       "      <td>62.922020</td>\n",
       "      <td>63.0</td>\n",
       "      <td>50.730086</td>\n",
       "    </tr>\n",
       "    <tr>\n",
       "      <th>Credit Card</th>\n",
       "      <td>205</td>\n",
       "      <td>61.160911</td>\n",
       "      <td>62.0</td>\n",
       "      <td>23.358209</td>\n",
       "    </tr>\n",
       "    <tr>\n",
       "      <th>Debit Card</th>\n",
       "      <td>224</td>\n",
       "      <td>69.089226</td>\n",
       "      <td>60.0</td>\n",
       "      <td>81.448004</td>\n",
       "    </tr>\n",
       "    <tr>\n",
       "      <th>PayPal</th>\n",
       "      <td>206</td>\n",
       "      <td>62.126149</td>\n",
       "      <td>57.5</td>\n",
       "      <td>69.511981</td>\n",
       "    </tr>\n",
       "    <tr>\n",
       "      <th>Venmo</th>\n",
       "      <td>216</td>\n",
       "      <td>59.199074</td>\n",
       "      <td>60.0</td>\n",
       "      <td>24.807579</td>\n",
       "    </tr>\n",
       "  </tbody>\n",
       "</table>\n",
       "</div>"
      ],
      "text/plain": [
       "               count       mean  median        std\n",
       "PaymentMethod                                     \n",
       "Bank Transfer    199  69.512496    59.0  87.459886\n",
       "Cash             231  62.922020    63.0  50.730086\n",
       "Credit Card      205  61.160911    62.0  23.358209\n",
       "Debit Card       224  69.089226    60.0  81.448004\n",
       "PayPal           206  62.126149    57.5  69.511981\n",
       "Venmo            216  59.199074    60.0  24.807579"
      ]
     },
     "execution_count": 55,
     "metadata": {},
     "output_type": "execute_result"
    }
   ],
   "source": [
    "# Hypothese 4\n",
    "# Hier müssen die Häufigkeit der Zahlung nach dem Zahlungsmittel dargestellt werden\n",
    "\n",
    " \n",
    "df_cleaned.groupby(\"PaymentMethod\", observed=True, dropna=False)[\"PurchaseAmountUSD\"].agg([\"count\", \"mean\", \"median\", \"std\"])\n",
    "\n",
    "# Anzeigen von Ergebnissen\n",
    "\n"
   ]
  },
  {
   "cell_type": "markdown",
   "metadata": {},
   "source": [
    "**Später werden wir versuchen herauszufinden, wie sich die verschiedenen Zahlungsmethoden auf die Kaufentscheidungen auswirken.**"
   ]
  },
  {
   "cell_type": "markdown",
   "metadata": {},
   "source": []
  },
  {
   "cell_type": "markdown",
   "metadata": {},
   "source": [
    "\n",
    "\n",
    "\n",
    "### Lassen wir uns nun die Gültigkeit unserer Hypothesen sowie ihre Auswirkungen auf die Kaufentscheidungen und parallel dazu ihren Einfluss auf den Umsatz des Geschäfts herausfinden."
   ]
  },
  {
   "cell_type": "markdown",
   "metadata": {},
   "source": [
    "####  **Hypothese 1 :**  Ältere Menschen würden mehr oder weniger als junge Menschen ausgeben."
   ]
  },
  {
   "cell_type": "markdown",
   "metadata": {},
   "source": [
    "### Histogramme und Barplot \n",
    "sind eine gute Möglichkeit, um die Verteilung von numerischen Variablen zu visualisieren, deswegen hatten wir uns dafür entschieden. \n",
    "\n",
    "Mit diesen Grafiken wollen wir zunächst die durchschnittlichen Ausgaben der Kunden für jede Alter darstellen, dann genauer zeigen, wie hoch die durchschnittlichen Ausgaben für zwei Altersgruppen sind, die jeweils die junge und die ältere Bevölkerung bzw. Kunde  repräsentieren, und die Ergebnisse vergleichen."
   ]
  },
  {
   "cell_type": "code",
   "execution_count": 56,
   "metadata": {},
   "outputs": [
    {
     "data": {
      "image/png": "[encoded data removed]",
      "text/plain": [
       "<Figure size 640x480 with 1 Axes>"
      ]
     },
     "metadata": {},
     "output_type": "display_data"
    }
   ],
   "source": [
    "# Initialisiere einen Vektor, um den Anteil der Ausgaben für jede Altersgruppe zu speichern\n",
    "percent_expenses = []\n",
    "\n",
    "# Gehe jede Altersgruppe durch\n",
    "for alter in range(18, 70):\n",
    "    # Filtere die Daten für die aktuelle Altersgruppe\n",
    "    temp = df_cleaned[df_cleaned['Age'] == alter]\n",
    "    # Berechne den Anteil der Ausgaben über einem bestimmten Betrag (z. B. 50K)\n",
    "    anteil = temp['PurchaseAmountUSD'].sum() / temp.shape[0]\n",
    "    # Speichere den Anteil in der Liste\n",
    "    percent_expenses.append(anteil)\n",
    "\n",
    "# Erstelle das Balkendiagramm\n",
    "plt.bar(range(18, 70), percent_expenses)\n",
    "plt.xlabel('Age (Jahre)')\n",
    "plt.ylabel('PurchaseAmountUSD')\n",
    "plt.title('Anteil der  Ausgaben pro Alter')\n",
    "plt.ylim(0, max(percent_expenses) * 1.1)  # Setze die y-Grenze, um die Daten besser zu visualisieren\n",
    "\n",
    "# Hinzufügen der Medianlinie\n",
    "median_age = df_cleaned['Age'].median()\n",
    "plt.axvline(x=median_age, color='red', linestyle='--', label='Median')\n",
    "\n",
    "plt.legend()  # Anzeigen der Legende\n",
    "\n",
    "plt.show()"
   ]
  },
  {
   "cell_type": "markdown",
   "metadata": {},
   "source": [
    "##### Auf der y-Achse entspricht 20 =200 USD, 40 =400 USD, 60 =600 USD, 80 =800 USD und 100 =1000 USD.\n",
    "\n",
    "Das folgende Diagramm zeigt die Kaufproportionen für jede Alter. Der Median teilt diese Alter  in fast gleich große Teile. Auf den ersten Blick scheint es, dass jüngere Bevölkerungsgruppen tendenziell viel mehr ausgeben als ältere Personen. Mit einem solchen Datenvolumen können wir jedoch nicht mit Sicherheit sagen, dass junge Menschen tatsächlich mehr ausgeben als ältere Menschen. Daher werden wir Gruppen im Alter von**18-30** Jahren und **51-70** Jahren auswählen. Für jede Gruppe werden wir das Kaufverhalten von 250 Personen untersuchen, um proportional genaue Ergebnisse zu erhalten."
   ]
  },
  {
   "cell_type": "code",
   "execution_count": 57,
   "metadata": {},
   "outputs": [
    {
     "name": "stderr",
     "output_type": "stream",
     "text": [
      "C:\\Users\\ngoum\\AppData\\Local\\Temp\\ipykernel_28552\\9113971.py:2: FutureWarning: The default of observed=False is deprecated and will be changed to True in a future version of pandas. Pass observed=False to retain current behavior or observed=True to adopt the future default and silence this warning.\n",
      "  filtered_data = df_cleaned[df_cleaned['Age_group'].isin(['18-30', '51-70'])].groupby('Age_group').head(250)\n",
      "C:\\Users\\ngoum\\AppData\\Local\\Temp\\ipykernel_28552\\9113971.py:5: FutureWarning: The default of observed=False is deprecated and will be changed to True in a future version of pandas. Pass observed=False to retain current behavior or observed=True to adopt the future default and silence this warning.\n",
      "  result = filtered_data.groupby(\"Age_group\").agg({\"PurchaseAmountUSD\": [\"mean\", lambda x: len(x) / 250 * 100]})\n"
     ]
    },
    {
     "data": {
      "image/png": "[encoded data removed]",
      "text/plain": [
       "<Figure size 900x600 with 1 Axes>"
      ]
     },
     "metadata": {},
     "output_type": "display_data"
    }
   ],
   "source": [
    "# Daten filtern und nur die gewünschten Altersgruppen und 250 Personen pro Gruppe berücksichtigen\n",
    "filtered_data = df_cleaned[df_cleaned['Age_group'].isin(['18-30', '51-70'])].groupby('Age_group').head(250)\n",
    "\n",
    "# Ergebnisse berechnen\n",
    "result = filtered_data.groupby(\"Age_group\").agg({\"PurchaseAmountUSD\": [\"mean\", lambda x: len(x) / 250 * 100]})\n",
    "\n",
    "# Grafik erstellen\n",
    "\n",
    "\n",
    "\n",
    "result.plot(kind=\"bar\" , figsize=(9, 6), color=['black', 'blue'])\n",
    "\n",
    "plt.title(\"Ausgaben und Anzahl pro Altersgruppe\")\n",
    "plt.xlabel(\"Altersgruppe\")\n",
    "plt.ylabel(\"PurchaseAmoutUSD\")\n",
    "plt.xticks(rotation=0)\n",
    "plt.legend([\"Durchschnittliche Ausgaben\", \"Prozentsatz\"])\n",
    "plt.show()"
   ]
  },
  {
   "cell_type": "markdown",
   "metadata": {},
   "source": [
    "Im folgenden Diagramm werden zwei Altersgruppen für jeweils 250 Personen pro Gruppe verglichen. Die Grafik zeigt, dass für die Altersgruppe 18-30 die durchschnittlichen Ausgaben für Einkäufe bei etwa 70 Dollar liegen, während sie für ältere Personen bei etwa 64 Dollar liegen.\n",
    "\n",
    "**Schlussfolgerung:** Ältere Personen(Kunde) geben in diesem Geschäft weniger aus als jüngere Personen(Kunde).\n",
    "\n",
    "Hinweis: Die blauen Balken repräsentieren die untersuchte Gruppe und die schwarzen Balken repräsentieren die durchschnittlichen Ausgaben. \n",
    "\n",
    "Daher ziehen wir den Schluss, dass jüngere Personen deutlich mehr ausgeben als ältere Personen. Eine Vertriebsstrategie, die wir vorschlagen würden, wäre, die Angebote für Produkte, die an jüngere Personen gerichtet sind, zu verstärken."
   ]
  },
  {
   "cell_type": "markdown",
   "metadata": {},
   "source": [
    "#### **Hypothese 2 :**  Kunden, die Promo-Codes verwenden oder Rabatte erhalten, haben einen höheren Gesamtkaufbetrag."
   ]
  },
  {
   "cell_type": "markdown",
   "metadata": {},
   "source": [
    "### Boxplot\n",
    "Boxplots sind ebenfalls eine ausgezeichnete Möglichkeit, die Verteilung numerischer Variablen zu visualisieren und gleichzeitig die Treue der Daten zu erhalten. Deshalb haben wir uns auch für sie entschieden.\n",
    "\n",
    "wir wollen damit überprüfen , ob die Rabatte oder PromoCode Tatsächlich einen Einfluss auf das Kaufverhalten oder Ausgaben der Kunden hätten  und soger den Umsatzt des Shops.\n",
    "\n",
    "Dafür beginnen wir zuerst mit Boxplot , um zu zeigen , wo liegt der Medianwert beim Einkaufen mit und ohne PromoCode oder Rabatte\n",
    "\n",
    "Danach wird mittel eines Balkendiagramms bei nahe gezeigt, wer gibt tatsächlich viel aus.\n",
    "\n",
    "URL: https://pandas.pydata.org/pandas-docs/stable/user_guide/visualization.html#box-plots"
   ]
  },
  {
   "cell_type": "code",
   "execution_count": 58,
   "metadata": {},
   "outputs": [
    {
     "data": {
      "image/png": "[encoded data removed]",
      "text/plain": [
       "<Figure size 640x480 with 4 Axes>"
      ]
     },
     "metadata": {},
     "output_type": "display_data"
    }
   ],
   "source": [
    "\n",
    "fig, ax = plt.subplots(2, 2)\n",
    "df_cleaned[df_cleaned['DiscountApplied'] == 'Yes'].rename(columns={'PurchaseAmountUSD': 'Yes'}).plot(ax=ax[0][0], y='Yes', kind='box', ylim= (0, 120), grid=True, sharey=True)\n",
    "df_cleaned[df_cleaned['DiscountApplied'] == 'No'].rename(columns={'PurchaseAmountUSD': 'No'}).plot(ax=ax[0][1], y='No', kind='box', ylim= (0, 120), grid=True, sharey=True)\n",
    "\n",
    "# With Standart Deviation\n",
    "df_cleaned[df_cleaned['DiscountApplied'] == 'Yes'].rename(columns={'PurchaseAmountUSD': 'Yes'}).plot(ax=ax[1][0], y='Yes', kind='box', grid=True, sharey=True)\n",
    "df_cleaned[df_cleaned['DiscountApplied'] == 'No'].rename(columns={'PurchaseAmountUSD': 'No'}).plot(ax=ax[1][1], y='No', kind='box', grid=True, sharey=True)\n",
    "plt.ylabel('Spendings in USD')\n",
    "plt.show()\n",
    "\n"
   ]
  },
  {
   "cell_type": "markdown",
   "metadata": {},
   "source": [
    "Um genauere Ergebnisse zu erhalten, werden wir das Verhalten von 500 Personen untersuchen und Schlussfolgerungen ziehen."
   ]
  },
  {
   "cell_type": "code",
   "execution_count": 59,
   "metadata": {},
   "outputs": [
    {
     "name": "stdout",
     "output_type": "stream",
     "text": [
      "PromoCodeUsed\n",
      "No     732\n",
      "Yes    549\n",
      "Name: count, dtype: int64\n",
      "Durchschnittlicher Kaufbetrag für Kunden mit Promo-Codes ('Yes'): 64.04 USD\n",
      "Anzahl der Kunden mit Promo-Codes ('Yes'): 500\n",
      "Durchschnittlicher Kaufbetrag für Kunden ohne Promo-Codes ('No'): 66.89 USD\n",
      "Anzahl der Kunden ohne Promo-Codes ('No'): 500\n"
     ]
    },
    {
     "data": {
      "image/png": "[encoded data removed]",
      "text/plain": [
       "<Figure size 1000x600 with 1 Axes>"
      ]
     },
     "metadata": {},
     "output_type": "display_data"
    }
   ],
   "source": [
    "# Überprüfen der verfügbaren Daten für die Gruppe 'YES' und 'NO'\n",
    "print(df_cleaned['PromoCodeUsed'].value_counts())\n",
    "\n",
    "# Filtern der Daten für Kunden mit und ohne Promo-Codes und Auswahl von Personen entsprechend der verfügbaren Daten\n",
    "filtered_yes = df_cleaned[df_cleaned['PromoCodeUsed'] == 'Yes'].sample(n=min(500, df_cleaned['PromoCodeUsed'].value_counts()['Yes']), random_state=42)\n",
    "filtered_no = df_cleaned[df_cleaned['PromoCodeUsed'] == 'No'].sample(n=min(500, df_cleaned['PromoCodeUsed'].value_counts()['No']), random_state=42)\n",
    "\n",
    "# Berechnung des durchschnittlichen Kaufbetrags und der Anzahl für Kunden mit Promo-Codes ('YES')\n",
    "mean_purchase_amount_yes = filtered_yes['PurchaseAmountUSD'].mean()\n",
    "count_yes = filtered_yes.shape[0]\n",
    "\n",
    "# Berechnung des durchschnittlichen Kaufbetrags und der Anzahl für Kunden ohne Promo-Codes ('NO')\n",
    "mean_purchase_amount_no = filtered_no['PurchaseAmountUSD'].mean()\n",
    "count_no = filtered_no.shape[0]\n",
    "\n",
    "# Ergebnisse anzeigen\n",
    "print(f\"Durchschnittlicher Kaufbetrag für Kunden mit Promo-Codes ('Yes'): {mean_purchase_amount_yes:.2f} USD\")\n",
    "print(f\"Anzahl der Kunden mit Promo-Codes ('Yes'): {count_yes}\")\n",
    "print(f\"Durchschnittlicher Kaufbetrag für Kunden ohne Promo-Codes ('No'): {mean_purchase_amount_no:.2f} USD\")\n",
    "print(f\"Anzahl der Kunden ohne Promo-Codes ('No'): {count_no}\")\n",
    "\n",
    "# Erstellen des Diagramms\n",
    "plt.figure(figsize=(10, 6))\n",
    "\n",
    "# Balken für Kunden mit Promo-Codes ('Yes')\n",
    "plt.bar('Mit Promo-Code', mean_purchase_amount_yes, color='red', label='Durchschnittlicher Kaufbetrag (Yes)')\n",
    "plt.bar('Mit Promo-Code', count_yes, color='orange', label='Anzahl (Yes)', alpha=0.5)\n",
    "\n",
    "# Balken für Kunden ohne Promo-Codes ('No')\n",
    "plt.bar('Ohne Promo-Code', mean_purchase_amount_no, color='blue', label='Durchschnittlicher Kaufbetrag (No)')\n",
    "plt.bar('Ohne Promo-Code', count_no, color='green', label='Anzahl (No)', alpha=0.5)\n",
    "\n",
    "# Hinzufügen von Etiketten mit der Größe jeder Gruppe\n",
    "plt.text(0, mean_purchase_amount_yes, f'{mean_purchase_amount_yes:.2f}', ha='center', va='bottom')\n",
    "plt.text(0, count_yes, f'{count_yes}', ha='center', va='bottom')\n",
    "plt.text(1, mean_purchase_amount_no, f'{mean_purchase_amount_no:.2f}', ha='center', va='bottom')\n",
    "plt.text(1, count_no, f'{count_no}', ha='center', va='bottom')\n",
    "\n",
    "plt.xlabel('Verwendung von Promo-Codes')\n",
    "plt.ylabel('Anzahl kunde')\n",
    "plt.title('Durchschnittlicher Kaufbetrag für Kunden mit und ohne Promo-Codes')\n",
    "plt.legend()\n",
    "plt.grid(axis='y', linestyle='--', alpha=0.7)\n",
    "plt.show()"
   ]
  },
  {
   "cell_type": "markdown",
   "metadata": {},
   "source": [
    "Wir wollten hier untersuchen, ob Kunden, die Promocodes verwenden, deutlich mehr ausgeben würden als solche, die dies nicht tun, um festzustellen, ob diese Strategie einen großen Einfluss auf den Umsatz des Unternehmens hätte.\n",
    "\n",
    "Wir stellen fest, dass von 500 Kunden, die Promocodes verwenden und 500 Kunden, die keines benutzen,geben  diejenigen mit Promocodes weniger aus als diejenigen Ohne PromoCode.\n",
    "\n",
    "**Schlussfolgerung:**  Promocodes wären kein so wichtiger Faktor, der das Kaufverhalten der Kunden oder ihre durchschnittlichen Ausgaben beeinflusse.\n",
    "\n",
    "\n",
    "\n"
   ]
  },
  {
   "cell_type": "markdown",
   "metadata": {},
   "source": [
    "#### **Hypothese 3 :**  Der durchschnittliche Kaufbetrag ist im Sommer niedriger als in anderen Season\n"
   ]
  },
  {
   "cell_type": "markdown",
   "metadata": {},
   "source": [
    "Um dies zu erreichen, verwenden wir ein Liniendiagramm, da es sowohl numerische als auch nicht-numerische Werte in einem Diagramm besser darstellen kann.\n",
    "\n",
    "Wir wollen eigentlich damit zeigen , wie  sich der durchschnittliche Kaufbetrag für alle kunden je nach Jahreszeiten  ändert \n",
    "Danach wollen wir prüfen, ob die Jahreszeiten ein Potenzieller Einfluss beim Kaufverhalten der Kunde sein könnte und Schlussfolgerung ziehen"
   ]
  },
  {
   "cell_type": "code",
   "execution_count": 60,
   "metadata": {},
   "outputs": [
    {
     "data": {
      "text/plain": [
       "<Axes: >"
      ]
     },
     "execution_count": 60,
     "metadata": {},
     "output_type": "execute_result"
    },
    {
     "data": {
      "image/png": "[encoded data removed]",
      "text/plain": [
       "<Figure size 640x480 with 8 Axes>"
      ]
     },
     "metadata": {},
     "output_type": "display_data"
    }
   ],
   "source": [
    "\n",
    "fig, ax = plt.subplots(2, 4)\n",
    "\n",
    "\n",
    "# ohne Standart Deviation\n",
    "df_cleaned[df_cleaned['Season'] == 'Winter'].rename(columns={'PurchaseAmountUSD': 'Winter'}).plot(ax=ax[0][0], kind='box', y='Winter', ylim=(0, 120), grid=True, sharey=True)\n",
    "df_cleaned[df_cleaned['Season'] == 'Spring'].rename(columns={'PurchaseAmountUSD': 'Spring'}).plot(ax=ax[0][1], kind='box', y='Spring', ylim=(0, 120), grid=True, sharey=True)\n",
    "df_cleaned[df_cleaned['Season'] == 'Summer'].rename(columns={'PurchaseAmountUSD': 'Summer'}).plot(ax=ax[0][2], kind='box', y='Summer', ylim=(0, 120), grid=True, sharey=True)\n",
    "df_cleaned[df_cleaned['Season'] == 'Fall'].rename(columns={'PurchaseAmountUSD': 'Fall'}).plot(ax=ax[0][3], kind='box', y='Fall', ylim=(0, 120), grid=True, sharey=True)\n",
    "\n",
    "\n",
    "\n"
   ]
  },
  {
   "cell_type": "code",
   "execution_count": 61,
   "metadata": {},
   "outputs": [
    {
     "data": {
      "image/png": "[encoded data removed]",
      "text/plain": [
       "<Figure size 800x600 with 1 Axes>"
      ]
     },
     "metadata": {},
     "output_type": "display_data"
    }
   ],
   "source": [
    "# Liniendiagramm für durchschnittlichen Gesamtkaufbetrag nach Jahreszeit\n",
    "\n",
    "plt.figure(figsize=(8, 6))\n",
    "mean_purchase_by_season = df_cleaned.groupby('Season')['PurchaseAmountUSD'].mean()\n",
    "mean_purchase_by_season.plot(kind='line', marker='o', color='skyblue')\n",
    "plt.xlabel('Jahreszeit')\n",
    "plt.ylabel('Durchschnittlicher Gesamtkaufbetrag (USD)')\n",
    "plt.title('Durchschnittlicher Gesamtkaufbetrag nach Jahreszeit')\n",
    "plt.xticks(rotation=45)\n",
    "plt.grid(True)\n",
    "plt.show()"
   ]
  },
  {
   "cell_type": "markdown",
   "metadata": {},
   "source": [
    "Es stehen uns vier Jahreszeiten zur Verfügung: Herbst, Frühling, Sommer und Winter, sowie die durchschnittlichen Einkäufe der Kunden während dieser Jahreszeiten. Der Herbst steht  im ersten Spitze mit durchschnittlichen Ausgaben von über 70 USD pro Kunde, gefolgt vom Frühling mit durchschnittlichen Ausgaben von etwa 63 USD. Der Sommer, der ursprünglich unser zentraler Analysepunkt war, belegt den dritten Platz mit durchschnittlichen Ausgaben von etwa 61,98 USD. Winter liegt auf dem letzten Platz mit durchschnittlichen Ausgaben von etwa 60,50 USD.\n",
    "\n",
    "**Schlussfolgerung:** Die Kunden kaufen tatsächlich deutlich mehr in den anderen Jahreszeiten, nämlich im Herbst und Frühling, als im Sommer.\n",
    "\n",
    "Wir ziehen auch die Schlussfolgerung, dass die Jahreszeiten einen wichtigen Faktor beim Kauf von Produkten und den durchschnittlichen Ausgaben darstellen.\n",
    "\n",
    "Daher schlagen wir vor, dass eine Geschäftsstrategie darauf abzielt, während des Herbstes und Frühlings besondere Aufmerksamkeit zu schenken, um den Umsatz zu maximieren. Es sollte eine verstärkte Marketing- und Verkaufsaktivität während dieser Jahreszeiten geben, um das Kundenerlebnis zu verbessern und die Verkäufe anzukurbeln. Dies bedeutet nicht, dass die anderen Jahreszeiten vernachlässigt werden sollten, sondern dass die Ressourcen entsprechend den saisonalen Trends und Kundenpräferenzen strategisch eingesetzt werden sollten."
   ]
  },
  {
   "cell_type": "markdown",
   "metadata": {},
   "source": [
    "#### **Hypothese  4 :**  Kunden, die Online Zahlungsmethoden (z.B. Paypal, Banktransfer) verwenden, geben im Durchschnitt mehr pro Transaktion aus als Kunden, die Bargeld oder kontaktlose Zahlungen verwenden."
   ]
  },
  {
   "cell_type": "markdown",
   "metadata": {},
   "source": [
    "### Kreisdiagramme\n",
    "\n",
    "Kreisdiagramme sind effektiv, um kategoriale Daten darzustellen, und ermöglichen einen einfachen Vergleich der Proportionen zwischen verschiedenen Kategorien. Darüber hinaus ist ihre kreisförmige Form intuitiv und leicht verständlich für die meisten Menschen, was sie zu einem leistungsstarken visuellen Kommunikationsmittel macht. Aus diesem Grund haben wir uns dafür entschieden, sie zu verwenden.\n",
    "\n",
    "\n",
    "Wir wollen einerseits damit zeigen, mit welchem Frequenz die verschiedenen Zahlungsmethode verwendet sind und anderseits prüfen welche Methode bringt geneu mehr Umsatzt."
   ]
  },
  {
   "cell_type": "code",
   "execution_count": 62,
   "metadata": {},
   "outputs": [
    {
     "data": {
      "image/png": "[encoded data removed]",
      "text/plain": [
       "<Figure size 1600x600 with 2 Axes>"
      ]
     },
     "metadata": {},
     "output_type": "display_data"
    }
   ],
   "source": [
    "\n",
    "# ax = plt.subplot()\n",
    "(df_cleaned.groupby('PaymentMethod')[['CustomerID', 'PurchaseAmountUSD']]\n",
    ".agg(Freq=pd.NamedAgg(column='CustomerID', aggfunc='count'), Income=pd.NamedAgg(column='PurchaseAmountUSD', aggfunc='sum'))\n",
    ".plot( kind='pie', subplots=True, autopct='%1.0f%%', figsize=(16, 6)))\n",
    "# plt.ylabel('Spendings in USD')\n",
    "plt.show()"
   ]
  },
  {
   "cell_type": "markdown",
   "metadata": {},
   "source": [
    "Die obigen Diagramme stellen in Form eines Kreisdiagramms alle Zahlungsmethoden sowie die entsprechenden Nutzungsfrequenzen (im linken Diagramm) dar. Das Diagramm auf der rechten Seite zeigt die rentabelste Zahlungsmethode unter allen diesen Mitteln.\n",
    "\n",
    "**Für das erste Diagramm (links):**\n",
    "\n",
    "Was uns sofort auffällt, ist, dass die Nutzungshäufigkeit dieser Zahlungsmethoden im Wesentlichen proportional ist. Die am häufigsten genutzte Zahlungsmethode ist jedoch die Barzahlung mit 18%, gefolgt von Debitkarten und Venmo mit jeweils 17%. Kreditkarten, PayPal und Banküberweisungen werden jeweils zu 16% verwendet.\n",
    "\n",
    "**Für das zweite Diagramm (rechts):**\n",
    "\n",
    "Was uns ins Auge fällt, ist, dass die rentabelste Zahlungsmethode die Debitkarte mit 19% Rentabilität ist. Im Vergleich zu anderen Zahlungsmethoden werden digitale Zahlungen am wenigsten genutzt, was auch ihre geringere Rentabilität erklärt.\n",
    "\n",
    "**Schlussfolgerung:** Kunden geben am meisten aus, wenn sie entweder Debitkarten oder Bargeld verwenden. Die Hypothese, dass Kunden, die Online-Zahlungsmethoden (wie PayPal, Banküberweisungen) verwenden, im Durchschnitt mehr pro Transaktion ausgeben als Kunden, die Bargeld und kontaktlose Zahlungen verwenden, ist daher nicht  korrekt."
   ]
  },
  {
   "cell_type": "markdown",
   "metadata": {},
   "source": [
    "## Korrelation\n",
    "\n",
    "Die Korrelation ermöglicht es uns zu prüfen, wie die Variablen miteinander interagieren. \n",
    "Dadurch können wir besser verstehen , wie eine Variable mit einer anderen Variable interagiert und was ist der Einfluss auf das Kaufverhalten"
   ]
  },
  {
   "cell_type": "code",
   "execution_count": 63,
   "metadata": {},
   "outputs": [
    {
     "name": "stdout",
     "output_type": "stream",
     "text": [
      "Correlation between Age_group and PurchaseAmountUSD: -0.018144914870769316\n"
     ]
    }
   ],
   "source": [
    "\n",
    "# Angenommen df_cleaned ist der DataFrame, der die relevanten Daten enthält\n",
    "\n",
    "# Korrelation berechnen\n",
    "correlation = df_cleaned['Age_group'].astype('category').cat.codes.corr(df_cleaned['PurchaseAmountUSD'])\n",
    "\n",
    "print(\"Correlation between Age_group and PurchaseAmountUSD:\", correlation)"
   ]
  },
  {
   "cell_type": "markdown",
   "metadata": {},
   "source": [
    " Die Korrelationskoeffizienten zeigt, dass die Beziehung zwischen dem Kaufbetrag und dem Alter in den verschiedenen Altersgruppen sehr schwach ist und keine klare Richtung aufweist. Dies deutet darauf hin, dass das Alter allein kein starker Prädiktor für den Kaufbetrag wäre und dass andere Faktoren das Kaufverhalten stärker beeinflussen könnten. Weitere Analysen könnten erforderlich sein, um diese anderen Einflussfaktoren zu identifizieren und zu verstehen."
   ]
  },
  {
   "cell_type": "code",
   "execution_count": 65,
   "metadata": {},
   "outputs": [
    {
     "data": {
      "text/plain": [
       "<seaborn.axisgrid.PairGrid at 0x1865724b080>"
      ]
     },
     "execution_count": 65,
     "metadata": {},
     "output_type": "execute_result"
    },
    {
     "data": {
      "image/png": "[encoded data removed]",
      "text/plain": [
       "<Figure size 750x750 with 12 Axes>"
      ]
     },
     "metadata": {},
     "output_type": "display_data"
    }
   ],
   "source": [
    "import seaborn as sns\n",
    "\n",
    "iris= sns.load_dataset(\"iris\")\n",
    "sns.pairplot(df_cleaned, kind=\"scatter\")"
   ]
  },
  {
   "cell_type": "markdown",
   "metadata": {},
   "source": [
    "**korrelation Hypothese 1**"
   ]
  },
  {
   "cell_type": "code",
   "execution_count": 66,
   "metadata": {},
   "outputs": [
    {
     "data": {
      "text/html": [
       "<div>\n",
       "<style scoped>\n",
       "    .dataframe tbody tr th:only-of-type {\n",
       "        vertical-align: middle;\n",
       "    }\n",
       "\n",
       "    .dataframe tbody tr th {\n",
       "        vertical-align: top;\n",
       "    }\n",
       "\n",
       "    .dataframe thead th {\n",
       "        text-align: right;\n",
       "    }\n",
       "</style>\n",
       "<table border=\"1\" class=\"dataframe\">\n",
       "  <thead>\n",
       "    <tr style=\"text-align: right;\">\n",
       "      <th></th>\n",
       "      <th>PurchaseAmountUSD</th>\n",
       "      <th>Age</th>\n",
       "    </tr>\n",
       "  </thead>\n",
       "  <tbody>\n",
       "    <tr>\n",
       "      <th>PurchaseAmountUSD</th>\n",
       "      <td>1.000000</td>\n",
       "      <td>-0.024994</td>\n",
       "    </tr>\n",
       "    <tr>\n",
       "      <th>Age</th>\n",
       "      <td>-0.024994</td>\n",
       "      <td>1.000000</td>\n",
       "    </tr>\n",
       "  </tbody>\n",
       "</table>\n",
       "</div>"
      ],
      "text/plain": [
       "                   PurchaseAmountUSD       Age\n",
       "PurchaseAmountUSD           1.000000 -0.024994\n",
       "Age                        -0.024994  1.000000"
      ]
     },
     "execution_count": 66,
     "metadata": {},
     "output_type": "execute_result"
    }
   ],
   "source": [
    "df_cleaned[['PurchaseAmountUSD', 'Age']].corr()"
   ]
  },
  {
   "cell_type": "markdown",
   "metadata": {},
   "source": [
    "Es ist festzustellen ,dass es eine sehr schwäche negative Korrelation zwischen PurchaseAmountUSD und Age , was deutet drauf hin , dass andere Faktoren den Kaufverhalten der kunde beinflüssen"
   ]
  },
  {
   "cell_type": "code",
   "execution_count": 67,
   "metadata": {},
   "outputs": [
    {
     "data": {
      "image/png": "[encoded data removed]",
      "text/plain": [
       "<Figure size 640x480 with 1 Axes>"
      ]
     },
     "metadata": {},
     "output_type": "display_data"
    }
   ],
   "source": [
    "df_cleaned.plot(x='PurchaseAmountUSD',  y='Age', kind='scatter', title='Graphische Darstellung der Korrelation zwischen dem PurchaseAmountUSD und Age')\n",
    "\n",
    "plt.show()"
   ]
  },
  {
   "cell_type": "markdown",
   "metadata": {},
   "source": [
    "**korrelation Hypothese 2**"
   ]
  },
  {
   "cell_type": "code",
   "execution_count": 69,
   "metadata": {},
   "outputs": [
    {
     "data": {
      "text/html": [
       "<div>\n",
       "<style scoped>\n",
       "    .dataframe tbody tr th:only-of-type {\n",
       "        vertical-align: middle;\n",
       "    }\n",
       "\n",
       "    .dataframe tbody tr th {\n",
       "        vertical-align: top;\n",
       "    }\n",
       "\n",
       "    .dataframe thead th {\n",
       "        text-align: right;\n",
       "    }\n",
       "</style>\n",
       "<table border=\"1\" class=\"dataframe\">\n",
       "  <thead>\n",
       "    <tr style=\"text-align: right;\">\n",
       "      <th></th>\n",
       "      <th>PurchaseAmountUSD</th>\n",
       "      <th>PromoCodeUsed</th>\n",
       "    </tr>\n",
       "  </thead>\n",
       "  <tbody>\n",
       "    <tr>\n",
       "      <th>PurchaseAmountUSD</th>\n",
       "      <td>1.000000</td>\n",
       "      <td>-0.005254</td>\n",
       "    </tr>\n",
       "    <tr>\n",
       "      <th>PromoCodeUsed</th>\n",
       "      <td>-0.005254</td>\n",
       "      <td>1.000000</td>\n",
       "    </tr>\n",
       "  </tbody>\n",
       "</table>\n",
       "</div>"
      ],
      "text/plain": [
       "                   PurchaseAmountUSD  PromoCodeUsed\n",
       "PurchaseAmountUSD           1.000000      -0.005254\n",
       "PromoCodeUsed              -0.005254       1.000000"
      ]
     },
     "execution_count": 69,
     "metadata": {},
     "output_type": "execute_result"
    }
   ],
   "source": [
    "\n",
    "# Convertir la colonne 'PromoCodeUsed' en valeurs numériques\n",
    "df_cleaned['PromoCodeUsed'] = df_cleaned['PromoCodeUsed'].map({'Yes': 1, 'No': 0})\n",
    "\n",
    "# Calculer la corrélation entre 'PurchaseAmountUSD' et 'PromoCodeUsed'\n",
    "df_cleaned[['PurchaseAmountUSD', 'PromoCodeUsed']].corr()\n",
    "\n",
    "\n",
    "\n"
   ]
  },
  {
   "cell_type": "markdown",
   "metadata": {},
   "source": [
    "Es ist festzustellen ,dass es eine sehr schwäche negative Korrelation zwischen PurchaseAmountUSD und PromoCodeUsed , was bedeutet  , dass andere nicht in betracht zu ziehende Faktoren den Kaufverhalten der kunde beinflüssen"
   ]
  },
  {
   "cell_type": "code",
   "execution_count": 70,
   "metadata": {},
   "outputs": [
    {
     "data": {
      "image/png": "[encoded data removed]",
      "text/plain": [
       "<Figure size 640x480 with 1 Axes>"
      ]
     },
     "metadata": {},
     "output_type": "display_data"
    }
   ],
   "source": [
    "df_cleaned.plot(x='PurchaseAmountUSD',  y='PromoCodeUsed', kind='scatter', title='Graphische Darstellung der Korrelation zwischen dem PurchaseAmountUSD und PromoCodeUsed')\n",
    "\n",
    "plt.show()"
   ]
  },
  {
   "cell_type": "markdown",
   "metadata": {},
   "source": [
    "**korrelation Hypothese 3**"
   ]
  },
  {
   "cell_type": "code",
   "execution_count": 78,
   "metadata": {},
   "outputs": [
    {
     "data": {
      "text/html": [
       "<div>\n",
       "<style scoped>\n",
       "    .dataframe tbody tr th:only-of-type {\n",
       "        vertical-align: middle;\n",
       "    }\n",
       "\n",
       "    .dataframe tbody tr th {\n",
       "        vertical-align: top;\n",
       "    }\n",
       "\n",
       "    .dataframe thead th {\n",
       "        text-align: right;\n",
       "    }\n",
       "</style>\n",
       "<table border=\"1\" class=\"dataframe\">\n",
       "  <thead>\n",
       "    <tr style=\"text-align: right;\">\n",
       "      <th></th>\n",
       "      <th>PurchaseAmountUSD</th>\n",
       "      <th>Season</th>\n",
       "    </tr>\n",
       "  </thead>\n",
       "  <tbody>\n",
       "    <tr>\n",
       "      <th>PurchaseAmountUSD</th>\n",
       "      <td>1.0</td>\n",
       "      <td>NaN</td>\n",
       "    </tr>\n",
       "    <tr>\n",
       "      <th>Season</th>\n",
       "      <td>NaN</td>\n",
       "      <td>NaN</td>\n",
       "    </tr>\n",
       "  </tbody>\n",
       "</table>\n",
       "</div>"
      ],
      "text/plain": [
       "                   PurchaseAmountUSD  Season\n",
       "PurchaseAmountUSD                1.0     NaN\n",
       "Season                           NaN     NaN"
      ]
     },
     "execution_count": 78,
     "metadata": {},
     "output_type": "execute_result"
    }
   ],
   "source": [
    "df_cleaned['Season'] = df_cleaned['Season'].map({'Fall': 1, 'Spring': 2, 'Summer': 3,'Winter': 4})\n",
    "\n",
    "# Calculer la corrélation entre 'PurchaseAmountUSD' et 'Season'\n",
    "df_cleaned[['PurchaseAmountUSD', 'Season']].corr()"
   ]
  },
  {
   "cell_type": "code",
   "execution_count": 72,
   "metadata": {},
   "outputs": [
    {
     "data": {
      "image/png": "[encoded data removed]",
      "text/plain": [
       "<Figure size 640x480 with 1 Axes>"
      ]
     },
     "metadata": {},
     "output_type": "display_data"
    }
   ],
   "source": [
    "df_cleaned.plot(x='PurchaseAmountUSD',  y='Season', kind='scatter', title='Graphische Darstellung der Korrelation zwischen dem PurchaseAmountUSD und Season')\n",
    "\n",
    "plt.show()"
   ]
  },
  {
   "cell_type": "markdown",
   "metadata": {},
   "source": [
    "**korrelation Hypothese 4**"
   ]
  },
  {
   "cell_type": "code",
   "execution_count": 74,
   "metadata": {},
   "outputs": [
    {
     "data": {
      "text/html": [
       "<div>\n",
       "<style scoped>\n",
       "    .dataframe tbody tr th:only-of-type {\n",
       "        vertical-align: middle;\n",
       "    }\n",
       "\n",
       "    .dataframe tbody tr th {\n",
       "        vertical-align: top;\n",
       "    }\n",
       "\n",
       "    .dataframe thead th {\n",
       "        text-align: right;\n",
       "    }\n",
       "</style>\n",
       "<table border=\"1\" class=\"dataframe\">\n",
       "  <thead>\n",
       "    <tr style=\"text-align: right;\">\n",
       "      <th></th>\n",
       "      <th>PurchaseAmountUSD</th>\n",
       "      <th>PaymentMethod</th>\n",
       "    </tr>\n",
       "  </thead>\n",
       "  <tbody>\n",
       "    <tr>\n",
       "      <th>PurchaseAmountUSD</th>\n",
       "      <td>1.000000</td>\n",
       "      <td>-0.035044</td>\n",
       "    </tr>\n",
       "    <tr>\n",
       "      <th>PaymentMethod</th>\n",
       "      <td>-0.035044</td>\n",
       "      <td>1.000000</td>\n",
       "    </tr>\n",
       "  </tbody>\n",
       "</table>\n",
       "</div>"
      ],
      "text/plain": [
       "                   PurchaseAmountUSD  PaymentMethod\n",
       "PurchaseAmountUSD           1.000000      -0.035044\n",
       "PaymentMethod              -0.035044       1.000000"
      ]
     },
     "execution_count": 74,
     "metadata": {},
     "output_type": "execute_result"
    }
   ],
   "source": [
    "\n",
    "df_cleaned['PaymentMethod'] = df_cleaned['PaymentMethod'].map({'Bank Transfer': 1, 'Cash': 2, 'Credit Card': 3,'Debit Card': 4,'PayPal': 5,'Venmo': 6 })\n",
    "\n",
    "# Calculer la corrélation entre 'PurchaseAmountUSD' et 'Season'\n",
    "df_cleaned[['PurchaseAmountUSD', 'PaymentMethod']].corr()"
   ]
  },
  {
   "cell_type": "markdown",
   "metadata": {},
   "source": [
    "Wir stellen fest ,dass es eine sehr schwäche negative Korrelation zwischen PurchaseAmountUSD und PromoCodeUsed , was bedeutet  , dass andere  Faktoren den Kaufverhalten der kunde beinflüssen"
   ]
  },
  {
   "cell_type": "code",
   "execution_count": 75,
   "metadata": {},
   "outputs": [
    {
     "data": {
      "image/png": "[encoded data removed]",
      "text/plain": [
       "<Figure size 640x480 with 1 Axes>"
      ]
     },
     "metadata": {},
     "output_type": "display_data"
    }
   ],
   "source": [
    "df_cleaned.plot(x='PurchaseAmountUSD',  y='PaymentMethod', kind='scatter', title='Graphische Darstellung der Korrelation zwischen dem PurchaseAmountUSD und PaymentMethod')\n",
    "\n",
    "plt.show()"
   ]
  },
  {
   "cell_type": "markdown",
   "metadata": {},
   "source": [
    "##  Schlusswort  ##\n",
    "\n",
    "Die Analyse der Daten hat gezeigt, dass das Alter allein kein starker Prädiktor für den Gesamtkaufbetrag der Kunden in einem Einzelhandelsgeschäft ist, was darauf hinweist, dass andere Faktoren eine größere Rolle spielen könnten. Die Verwendung von Promo-Codes hatte keinen signifikanten Einfluss auf die Ausgaben der Kunden, was die Annahme in Frage stellt, dass diese eine entscheidende Rolle im Kaufverhalten spielen. Interessanterweise zeigten saisonale Unterschiede, dass Kunden im Frühling und Herbst tendenziell mehr ausgeben als im Sommer, was auf saisonale Kaufmuster hinweist, die durch Marketingstrategien besser genutzt werden könnten. Schließlich haben die Daten gezeigt, dass Kunden tendenziell mehr ausgeben, wenn sie Debitkarten verwenden oder Bargeld verwenden, im Vergleich zu anderen Zahlungsmethoden. Diese Erkenntnisse unterstreichen die Notwendigkeit eines umfassenden Ansatzes zur Erfassung und Analyse der verschiedenen Faktoren, die das Kaufverhalten beeinflussen, um effektive Verkaufsstrategien im Einzelhandel zu entwickeln und anzupassen."
   ]
  }
 ],
 "metadata": {
  "kernelspec": {
   "display_name": "Python 3",
   "language": "python",
   "name": "python3"
  },
  "language_info": {
   "codemirror_mode": {
    "name": "ipython",
    "version": 3
   },
   "file_extension": ".py",
   "mimetype": "text/x-python",
   "name": "python",
   "nbconvert_exporter": "python",
   "pygments_lexer": "ipython3",
   "version": "3.12.2"
  }
 },
 "nbformat": 4,
 "nbformat_minor": 2
}
